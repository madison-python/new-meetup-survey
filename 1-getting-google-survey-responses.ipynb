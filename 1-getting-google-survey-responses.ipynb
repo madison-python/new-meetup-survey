{
 "cells": [
  {
   "cell_type": "markdown",
   "metadata": {
    "deletable": true,
    "editable": true
   },
   "source": [
    "# Tidying the results of a Google survey"
   ]
  },
  {
   "cell_type": "markdown",
   "metadata": {
    "deletable": true,
    "editable": true
   },
   "source": [
    "We conducted a [survey](https://docs.google.com/forms/d/e/1FAIpQLSdIg3yZqSPxCac-ESLjnlfEcE5PLBo02TeBP42lgZJlUlry5w/viewform), and now we've got some results. Let's take a look. The survey responses have been deidentified and included in this repo as \"data/deidentified.csv\". Here I'm reading this csv in with `pandas`. The `read_csv()` function returns a `DataFrame` object. Just to get a sense of what the data look like, I print the column names and first three rows with the `head()` method available on all `DataFrame` objects."
   ]
  },
  {
   "cell_type": "code",
   "execution_count": 1,
   "metadata": {
    "collapsed": false,
    "deletable": true,
    "editable": true
   },
   "outputs": [
    {
     "data": {
      "text/html": [
       "<div>\n",
       "<table border=\"1\" class=\"dataframe\">\n",
       "  <thead>\n",
       "    <tr style=\"text-align: right;\">\n",
       "      <th></th>\n",
       "      <th>At what kind of facilities would you like to see the meetup?</th>\n",
       "      <th>At what skill level would you like to see events hosted?</th>\n",
       "      <th>How are you using Python?</th>\n",
       "      <th>How frequently would you be interested in attending MadPy meetings?</th>\n",
       "      <th>How would you prefer to communicate with the group online?</th>\n",
       "      <th>Is alcohol okay at meetups?</th>\n",
       "      <th>Is food okay at meetups?</th>\n",
       "      <th>What day(s) of the week work best for you?</th>\n",
       "      <th>What do you want to get out of a Madison Python meetup?</th>\n",
       "      <th>What format(s) of events would you like to see at MadPy?</th>\n",
       "      <th>What kind(s) of events would you like to see at MadPy?</th>\n",
       "      <th>What other tech meetups do you go to?</th>\n",
       "      <th>What time(s) of day work best for you?</th>\n",
       "      <th>Where in town works best for you to attend the meetup?</th>\n",
       "    </tr>\n",
       "  </thead>\n",
       "  <tbody>\n",
       "    <tr>\n",
       "      <th>0</th>\n",
       "      <td>Libraries, Offices</td>\n",
       "      <td>Introductory, Intermediate, Expert</td>\n",
       "      <td>Software (engineering/developing), Web (django...</td>\n",
       "      <td>A few times a year</td>\n",
       "      <td>Email, IRC channel</td>\n",
       "      <td>No</td>\n",
       "      <td>Yes</td>\n",
       "      <td>Tuesday, Thursday</td>\n",
       "      <td>Learning from others, teaching others</td>\n",
       "      <td>Presentations, Hack Nights, Python Schooling</td>\n",
       "      <td>Software (engineering/developing), Science (sc...</td>\n",
       "      <td>Madison DevOps (https://www.meetup.com/Madison...</td>\n",
       "      <td>After work hours (6pm - 9pm)</td>\n",
       "      <td>Downtown, East</td>\n",
       "    </tr>\n",
       "    <tr>\n",
       "      <th>1</th>\n",
       "      <td>Libraries, Bars, Offices, UW Facilities? If av...</td>\n",
       "      <td>Intermediate, Expert</td>\n",
       "      <td>Science (scientific &amp; numeric computing/data s...</td>\n",
       "      <td>A few times a year, Monthly</td>\n",
       "      <td>Email</td>\n",
       "      <td>Yes</td>\n",
       "      <td>Yes</td>\n",
       "      <td>Monday, Tuesday, Wednesday, Thursday, Friday, ...</td>\n",
       "      <td>Learn some new concepts/features/libraries. Ne...</td>\n",
       "      <td>Presentations, Hack Nights, Social</td>\n",
       "      <td>Software (engineering/developing), Science (sc...</td>\n",
       "      <td>NaN</td>\n",
       "      <td>After work hours (6pm - 9pm), Night/bar time (...</td>\n",
       "      <td>Near West, Downtown, East</td>\n",
       "    </tr>\n",
       "    <tr>\n",
       "      <th>2</th>\n",
       "      <td>Libraries, Offices</td>\n",
       "      <td>Intermediate, Expert</td>\n",
       "      <td>Software (engineering/developing), Science (sc...</td>\n",
       "      <td>A few times a year, Monthly</td>\n",
       "      <td>Email</td>\n",
       "      <td>Yes</td>\n",
       "      <td>Yes</td>\n",
       "      <td>Wednesday, Thursday</td>\n",
       "      <td>NaN</td>\n",
       "      <td>Presentations, Hack Nights, Python Schooling</td>\n",
       "      <td>Software (engineering/developing), Science (sc...</td>\n",
       "      <td>Big Data Madison (https://www.meetup.com/BigDa...</td>\n",
       "      <td>After work hours (6pm - 9pm), Night/bar time (...</td>\n",
       "      <td>Downtown</td>\n",
       "    </tr>\n",
       "  </tbody>\n",
       "</table>\n",
       "</div>"
      ],
      "text/plain": [
       "  At what kind of facilities would you like to see the meetup?  \\\n",
       "0                                 Libraries, Offices             \n",
       "1  Libraries, Bars, Offices, UW Facilities? If av...             \n",
       "2                                 Libraries, Offices             \n",
       "\n",
       "  At what skill level would you like to see events hosted?  \\\n",
       "0                 Introductory, Intermediate, Expert         \n",
       "1                               Intermediate, Expert         \n",
       "2                               Intermediate, Expert         \n",
       "\n",
       "                           How are you using Python?  \\\n",
       "0  Software (engineering/developing), Web (django...   \n",
       "1  Science (scientific & numeric computing/data s...   \n",
       "2  Software (engineering/developing), Science (sc...   \n",
       "\n",
       "  How frequently would you be interested in attending MadPy meetings?  \\\n",
       "0                                 A few times a year                    \n",
       "1                        A few times a year, Monthly                    \n",
       "2                        A few times a year, Monthly                    \n",
       "\n",
       "  How would you prefer to communicate with the group online?  \\\n",
       "0                                 Email, IRC channel           \n",
       "1                                              Email           \n",
       "2                                              Email           \n",
       "\n",
       "  Is alcohol okay at meetups? Is food okay at meetups?  \\\n",
       "0                          No                      Yes   \n",
       "1                         Yes                      Yes   \n",
       "2                         Yes                      Yes   \n",
       "\n",
       "          What day(s) of the week work best for you?  \\\n",
       "0                                  Tuesday, Thursday   \n",
       "1  Monday, Tuesday, Wednesday, Thursday, Friday, ...   \n",
       "2                                Wednesday, Thursday   \n",
       "\n",
       "  What do you want to get out of a Madison Python meetup?  \\\n",
       "0              Learning from others, teaching others        \n",
       "1  Learn some new concepts/features/libraries. Ne...        \n",
       "2                                                NaN        \n",
       "\n",
       "  What format(s) of events would you like to see at MadPy?  \\\n",
       "0       Presentations, Hack Nights, Python Schooling         \n",
       "1                 Presentations, Hack Nights, Social         \n",
       "2       Presentations, Hack Nights, Python Schooling         \n",
       "\n",
       "  What kind(s) of events would you like to see at MadPy?  \\\n",
       "0  Software (engineering/developing), Science (sc...       \n",
       "1  Software (engineering/developing), Science (sc...       \n",
       "2  Software (engineering/developing), Science (sc...       \n",
       "\n",
       "               What other tech meetups do you go to?  \\\n",
       "0  Madison DevOps (https://www.meetup.com/Madison...   \n",
       "1                                                NaN   \n",
       "2  Big Data Madison (https://www.meetup.com/BigDa...   \n",
       "\n",
       "              What time(s) of day work best for you?  \\\n",
       "0                       After work hours (6pm - 9pm)   \n",
       "1  After work hours (6pm - 9pm), Night/bar time (...   \n",
       "2  After work hours (6pm - 9pm), Night/bar time (...   \n",
       "\n",
       "  Where in town works best for you to attend the meetup?  \n",
       "0                                     Downtown, East      \n",
       "1                          Near West, Downtown, East      \n",
       "2                                           Downtown      "
      ]
     },
     "execution_count": 1,
     "metadata": {},
     "output_type": "execute_result"
    }
   ],
   "source": [
    "import pandas\n",
    "results = pandas.read_csv('data/deidentified.csv')\n",
    "results.head(3)"
   ]
  },
  {
   "cell_type": "markdown",
   "metadata": {
    "deletable": true,
    "editable": true
   },
   "source": [
    "## Get a condensed view of all the survey questions"
   ]
  },
  {
   "cell_type": "markdown",
   "metadata": {
    "deletable": true,
    "editable": true
   },
   "source": [
    "The header column is very verbose, including the complete question text. Let's look at the survey questions in a more condensed form. These responses have been deidentified, which means that a few questions (email, additional comments) and id fields (timestamps) have been removed."
   ]
  },
  {
   "cell_type": "code",
   "execution_count": 2,
   "metadata": {
    "collapsed": false,
    "deletable": true,
    "editable": true
   },
   "outputs": [
    {
     "data": {
      "text/plain": [
       "0            At what kind of facilities would you like to see the meetup?\n",
       "1                At what skill level would you like to see events hosted?\n",
       "2                                               How are you using Python?\n",
       "3     How frequently would you be interested in attending MadPy meetings?\n",
       "4              How would you prefer to communicate with the group online?\n",
       "5                                             Is alcohol okay at meetups?\n",
       "6                                                Is food okay at meetups?\n",
       "7                              What day(s) of the week work best for you?\n",
       "8                 What do you want to get out of a Madison Python meetup?\n",
       "9                What format(s) of events would you like to see at MadPy?\n",
       "10                 What kind(s) of events would you like to see at MadPy?\n",
       "11                                  What other tech meetups do you go to?\n",
       "12                                 What time(s) of day work best for you?\n",
       "13                 Where in town works best for you to attend the meetup?\n",
       "Name: question, dtype: object"
      ]
     },
     "execution_count": 2,
     "metadata": {},
     "output_type": "execute_result"
    }
   ],
   "source": [
    "questions = pandas.Series(results.columns, name='question')\n",
    "# Prevent print from truncating question text\n",
    "pandas.set_option('display.max_colwidth', int(questions.apply(len).max()+1))\n",
    "questions"
   ]
  },
  {
   "cell_type": "markdown",
   "metadata": {
    "deletable": true,
    "editable": true
   },
   "source": [
    "## Melting the data from wide to long"
   ]
  },
  {
   "cell_type": "markdown",
   "metadata": {
    "deletable": true,
    "editable": true
   },
   "source": [
    "The default output for Google survey responses is in \"wide format\" where a single person has multiple responses in each row. This is bad because it means our column headers contain data that we want to process. Really what we want is the survey responses in \"long format\", where each row is a single response, and then each person has multiple rows. To learn more about the benefits of wide versus long format, check out Hadley Wickham's paper [\"Tidy Data\"](https://www.jstatsoft.org/article/view/v059i10).\n",
    "\n",
    "To do the transformation, the first thing we need to do is assign a name for each person. This will help us keep responses together later on."
   ]
  },
  {
   "cell_type": "code",
   "execution_count": 3,
   "metadata": {
    "collapsed": false,
    "deletable": true,
    "editable": true
   },
   "outputs": [
    {
     "data": {
      "text/html": [
       "<div>\n",
       "<table border=\"1\" class=\"dataframe\">\n",
       "  <thead>\n",
       "    <tr style=\"text-align: right;\">\n",
       "      <th></th>\n",
       "      <th>person</th>\n",
       "      <th>At what kind of facilities would you like to see the meetup?</th>\n",
       "      <th>At what skill level would you like to see events hosted?</th>\n",
       "      <th>How are you using Python?</th>\n",
       "      <th>How frequently would you be interested in attending MadPy meetings?</th>\n",
       "      <th>How would you prefer to communicate with the group online?</th>\n",
       "      <th>Is alcohol okay at meetups?</th>\n",
       "      <th>Is food okay at meetups?</th>\n",
       "      <th>What day(s) of the week work best for you?</th>\n",
       "      <th>What do you want to get out of a Madison Python meetup?</th>\n",
       "      <th>What format(s) of events would you like to see at MadPy?</th>\n",
       "      <th>What kind(s) of events would you like to see at MadPy?</th>\n",
       "      <th>What other tech meetups do you go to?</th>\n",
       "      <th>What time(s) of day work best for you?</th>\n",
       "      <th>Where in town works best for you to attend the meetup?</th>\n",
       "    </tr>\n",
       "  </thead>\n",
       "  <tbody>\n",
       "    <tr>\n",
       "      <th>0</th>\n",
       "      <td>p0</td>\n",
       "      <td>Libraries, Offices</td>\n",
       "      <td>Introductory, Intermediate, Expert</td>\n",
       "      <td>Software (engineering/developing), Web (django/flask/other web d...</td>\n",
       "      <td>A few times a year</td>\n",
       "      <td>Email, IRC channel</td>\n",
       "      <td>No</td>\n",
       "      <td>Yes</td>\n",
       "      <td>Tuesday, Thursday</td>\n",
       "      <td>Learning from others, teaching others</td>\n",
       "      <td>Presentations, Hack Nights, Python Schooling</td>\n",
       "      <td>Software (engineering/developing), Science (scientific &amp; numeric...</td>\n",
       "      <td>Madison DevOps (https://www.meetup.com/Madison-Devops), Mad-Rail...</td>\n",
       "      <td>After work hours (6pm - 9pm)</td>\n",
       "      <td>Downtown, East</td>\n",
       "    </tr>\n",
       "    <tr>\n",
       "      <th>1</th>\n",
       "      <td>p1</td>\n",
       "      <td>Libraries, Bars, Offices, UW Facilities? If available to non-stu...</td>\n",
       "      <td>Intermediate, Expert</td>\n",
       "      <td>Science (scientific &amp; numeric computing/data science)</td>\n",
       "      <td>A few times a year, Monthly</td>\n",
       "      <td>Email</td>\n",
       "      <td>Yes</td>\n",
       "      <td>Yes</td>\n",
       "      <td>Monday, Tuesday, Wednesday, Thursday, Friday, Saturday, Sunday</td>\n",
       "      <td>Learn some new concepts/features/libraries. Network. Collaborate...</td>\n",
       "      <td>Presentations, Hack Nights, Social</td>\n",
       "      <td>Software (engineering/developing), Science (scientific &amp; numeric...</td>\n",
       "      <td>NaN</td>\n",
       "      <td>After work hours (6pm - 9pm), Night/bar time (9pm - 2am)</td>\n",
       "      <td>Near West, Downtown, East</td>\n",
       "    </tr>\n",
       "  </tbody>\n",
       "</table>\n",
       "</div>"
      ],
      "text/plain": [
       "  person         At what kind of facilities would you like to see the meetup?  \\\n",
       "0     p0                                                   Libraries, Offices   \n",
       "1     p1  Libraries, Bars, Offices, UW Facilities? If available to non-stu...   \n",
       "\n",
       "  At what skill level would you like to see events hosted?  \\\n",
       "0                       Introductory, Intermediate, Expert   \n",
       "1                                     Intermediate, Expert   \n",
       "\n",
       "                                             How are you using Python?  \\\n",
       "0  Software (engineering/developing), Web (django/flask/other web d...   \n",
       "1                Science (scientific & numeric computing/data science)   \n",
       "\n",
       "  How frequently would you be interested in attending MadPy meetings?  \\\n",
       "0                                                  A few times a year   \n",
       "1                                         A few times a year, Monthly   \n",
       "\n",
       "  How would you prefer to communicate with the group online?  \\\n",
       "0                                         Email, IRC channel   \n",
       "1                                                      Email   \n",
       "\n",
       "  Is alcohol okay at meetups? Is food okay at meetups?  \\\n",
       "0                          No                      Yes   \n",
       "1                         Yes                      Yes   \n",
       "\n",
       "                       What day(s) of the week work best for you?  \\\n",
       "0                                               Tuesday, Thursday   \n",
       "1  Monday, Tuesday, Wednesday, Thursday, Friday, Saturday, Sunday   \n",
       "\n",
       "               What do you want to get out of a Madison Python meetup?  \\\n",
       "0                                Learning from others, teaching others   \n",
       "1  Learn some new concepts/features/libraries. Network. Collaborate...   \n",
       "\n",
       "  What format(s) of events would you like to see at MadPy?  \\\n",
       "0             Presentations, Hack Nights, Python Schooling   \n",
       "1                       Presentations, Hack Nights, Social   \n",
       "\n",
       "                What kind(s) of events would you like to see at MadPy?  \\\n",
       "0  Software (engineering/developing), Science (scientific & numeric...   \n",
       "1  Software (engineering/developing), Science (scientific & numeric...   \n",
       "\n",
       "                                 What other tech meetups do you go to?  \\\n",
       "0  Madison DevOps (https://www.meetup.com/Madison-Devops), Mad-Rail...   \n",
       "1                                                                  NaN   \n",
       "\n",
       "                     What time(s) of day work best for you?  \\\n",
       "0                              After work hours (6pm - 9pm)   \n",
       "1  After work hours (6pm - 9pm), Night/bar time (9pm - 2am)   \n",
       "\n",
       "  Where in town works best for you to attend the meetup?  \n",
       "0                                         Downtown, East  \n",
       "1                              Near West, Downtown, East  "
      ]
     },
     "execution_count": 3,
     "metadata": {},
     "output_type": "execute_result"
    }
   ],
   "source": [
    "# Give people names p0 ... pN\n",
    "names = ['p{}'.format(i) for i in list(results.index)]\n",
    "results.insert(0, 'person', names)  # cf. results['person'] = names\n",
    "results.head(2)"
   ]
  },
  {
   "cell_type": "markdown",
   "metadata": {
    "deletable": true,
    "editable": true
   },
   "source": [
    "Now we can transform the data from wide to long format using the `pandas.melt()` function. The first argument is the DataFrame we are melting. Then we provide the \"id_vars\". These are the variables that will become duplicated in the melted DataFrame. For survey responses, the id variable is \"person\", meaning each person will go from having responses in one row to having responses in multiple rows.\n",
    "\n",
    "The other variables (\"var_name\" and \"value_name\") are optional, they just provide the names for the resulting columns. \"var_name\" is the name for the new column containing the names of the old columns. In our case, the column headers are question texts, so we set this to \"question\". The \"value_name\" is the name of the data in the cell of the original DataFrame. In our case, the data are responses. For some questions (e.g. questions with checkboxes) these responses are actually multiple responses joined together with a comma. We'll split them later. For now, let's call the value column \"response_str\" to remind ourselves that we aren't yet to a single response per row."
   ]
  },
  {
   "cell_type": "code",
   "execution_count": 4,
   "metadata": {
    "collapsed": false,
    "deletable": true,
    "editable": true
   },
   "outputs": [
    {
     "data": {
      "text/html": [
       "<div>\n",
       "<table border=\"1\" class=\"dataframe\">\n",
       "  <thead>\n",
       "    <tr style=\"text-align: right;\">\n",
       "      <th></th>\n",
       "      <th>person</th>\n",
       "      <th>question</th>\n",
       "      <th>response_str</th>\n",
       "    </tr>\n",
       "  </thead>\n",
       "  <tbody>\n",
       "    <tr>\n",
       "      <th>0</th>\n",
       "      <td>p0</td>\n",
       "      <td>At what kind of facilities would you like to see the meetup?</td>\n",
       "      <td>Libraries, Offices</td>\n",
       "    </tr>\n",
       "    <tr>\n",
       "      <th>1</th>\n",
       "      <td>p1</td>\n",
       "      <td>At what kind of facilities would you like to see the meetup?</td>\n",
       "      <td>Libraries, Bars, Offices, UW Facilities? If available to non-stu...</td>\n",
       "    </tr>\n",
       "    <tr>\n",
       "      <th>2</th>\n",
       "      <td>p2</td>\n",
       "      <td>At what kind of facilities would you like to see the meetup?</td>\n",
       "      <td>Libraries, Offices</td>\n",
       "    </tr>\n",
       "  </tbody>\n",
       "</table>\n",
       "</div>"
      ],
      "text/plain": [
       "  person                                                      question  \\\n",
       "0     p0  At what kind of facilities would you like to see the meetup?   \n",
       "1     p1  At what kind of facilities would you like to see the meetup?   \n",
       "2     p2  At what kind of facilities would you like to see the meetup?   \n",
       "\n",
       "                                                          response_str  \n",
       "0                                                   Libraries, Offices  \n",
       "1  Libraries, Bars, Offices, UW Facilities? If available to non-stu...  \n",
       "2                                                   Libraries, Offices  "
      ]
     },
     "execution_count": 4,
     "metadata": {},
     "output_type": "execute_result"
    }
   ],
   "source": [
    "response_strs = pandas.melt(results, 'person', var_name='question', value_name='response_str')\n",
    "response_strs.head(3)"
   ]
  },
  {
   "cell_type": "markdown",
   "metadata": {
    "deletable": true,
    "editable": true
   },
   "source": [
    "Another helpful function on DataFrames is `sort_values()`. After the melt, by default responses are grouped by question. Here I'm using the `sort_values()` function to rearrange the DataFrame by person to show how now each person's responses are spit across multiple rows after the split."
   ]
  },
  {
   "cell_type": "code",
   "execution_count": 5,
   "metadata": {
    "collapsed": false,
    "deletable": true,
    "editable": true
   },
   "outputs": [
    {
     "data": {
      "text/html": [
       "<div>\n",
       "<table border=\"1\" class=\"dataframe\">\n",
       "  <thead>\n",
       "    <tr style=\"text-align: right;\">\n",
       "      <th></th>\n",
       "      <th>person</th>\n",
       "      <th>question</th>\n",
       "      <th>response_str</th>\n",
       "    </tr>\n",
       "  </thead>\n",
       "  <tbody>\n",
       "    <tr>\n",
       "      <th>0</th>\n",
       "      <td>p0</td>\n",
       "      <td>At what kind of facilities would you like to see the meetup?</td>\n",
       "      <td>Libraries, Offices</td>\n",
       "    </tr>\n",
       "    <tr>\n",
       "      <th>303</th>\n",
       "      <td>p0</td>\n",
       "      <td>How frequently would you be interested in attending MadPy meetings?</td>\n",
       "      <td>A few times a year</td>\n",
       "    </tr>\n",
       "    <tr>\n",
       "      <th>404</th>\n",
       "      <td>p0</td>\n",
       "      <td>How would you prefer to communicate with the group online?</td>\n",
       "      <td>Email, IRC channel</td>\n",
       "    </tr>\n",
       "  </tbody>\n",
       "</table>\n",
       "</div>"
      ],
      "text/plain": [
       "    person  \\\n",
       "0       p0   \n",
       "303     p0   \n",
       "404     p0   \n",
       "\n",
       "                                                                question  \\\n",
       "0           At what kind of facilities would you like to see the meetup?   \n",
       "303  How frequently would you be interested in attending MadPy meetings?   \n",
       "404           How would you prefer to communicate with the group online?   \n",
       "\n",
       "           response_str  \n",
       "0    Libraries, Offices  \n",
       "303  A few times a year  \n",
       "404  Email, IRC channel  "
      ]
     },
     "execution_count": 5,
     "metadata": {},
     "output_type": "execute_result"
    }
   ],
   "source": [
    "response_strs.sort_values('person').head(3)"
   ]
  },
  {
   "cell_type": "markdown",
   "metadata": {
    "deletable": true,
    "editable": true
   },
   "source": [
    "## Splitting responses"
   ]
  },
  {
   "cell_type": "markdown",
   "metadata": {
    "deletable": true,
    "editable": true
   },
   "source": [
    "The last step is to split \"response_str\" into multiple responses. Basically we are melting the DataFrame again, this time on the number response for each question. But we can't use the `melt()` function because the multiple responses are contained within a single value (not split across multiple columns), and there are a variable number of responses within each response string. To help me do this, I'm going to write a custom melt function that accepts a DataFrame containing the response strings, and returns a longer pandas.DataFrame of responses--one per row."
   ]
  },
  {
   "cell_type": "code",
   "execution_count": 6,
   "metadata": {
    "collapsed": false,
    "deletable": true,
    "editable": true
   },
   "outputs": [
    {
     "data": {
      "text/html": [
       "<div>\n",
       "<table border=\"1\" class=\"dataframe\">\n",
       "  <thead>\n",
       "    <tr style=\"text-align: right;\">\n",
       "      <th></th>\n",
       "      <th>person</th>\n",
       "      <th>question</th>\n",
       "      <th>response_n</th>\n",
       "      <th>response</th>\n",
       "    </tr>\n",
       "  </thead>\n",
       "  <tbody>\n",
       "    <tr>\n",
       "      <th>0</th>\n",
       "      <td>p0</td>\n",
       "      <td>At what kind of facilities would you like to see the meetup?</td>\n",
       "      <td>0</td>\n",
       "      <td>Libraries</td>\n",
       "    </tr>\n",
       "    <tr>\n",
       "      <th>1</th>\n",
       "      <td>p0</td>\n",
       "      <td>At what kind of facilities would you like to see the meetup?</td>\n",
       "      <td>1</td>\n",
       "      <td>Offices</td>\n",
       "    </tr>\n",
       "    <tr>\n",
       "      <th>2</th>\n",
       "      <td>p1</td>\n",
       "      <td>At what kind of facilities would you like to see the meetup?</td>\n",
       "      <td>0</td>\n",
       "      <td>Libraries</td>\n",
       "    </tr>\n",
       "    <tr>\n",
       "      <th>3</th>\n",
       "      <td>p1</td>\n",
       "      <td>At what kind of facilities would you like to see the meetup?</td>\n",
       "      <td>1</td>\n",
       "      <td>Bars</td>\n",
       "    </tr>\n",
       "    <tr>\n",
       "      <th>4</th>\n",
       "      <td>p1</td>\n",
       "      <td>At what kind of facilities would you like to see the meetup?</td>\n",
       "      <td>2</td>\n",
       "      <td>Offices</td>\n",
       "    </tr>\n",
       "  </tbody>\n",
       "</table>\n",
       "</div>"
      ],
      "text/plain": [
       "  person                                                      question  \\\n",
       "0     p0  At what kind of facilities would you like to see the meetup?   \n",
       "1     p0  At what kind of facilities would you like to see the meetup?   \n",
       "2     p1  At what kind of facilities would you like to see the meetup?   \n",
       "3     p1  At what kind of facilities would you like to see the meetup?   \n",
       "4     p1  At what kind of facilities would you like to see the meetup?   \n",
       "\n",
       "   response_n   response  \n",
       "0           0  Libraries  \n",
       "1           1    Offices  \n",
       "2           0  Libraries  \n",
       "3           1       Bars  \n",
       "4           2    Offices  "
      ]
     },
     "execution_count": 6,
     "metadata": {},
     "output_type": "execute_result"
    }
   ],
   "source": [
    "def melt_response_strs(response_strs):\n",
    "    \"\"\"Convert a DataFrame with response strings to a DataFrame with one response per row.\n",
    "    \n",
    "    An example response str is 'Libraries, Offices'. The resulting DataFrame will have\n",
    "    two rows, one for each response item, e.g, ['Libraries', 'Offices'].\n",
    "    \"\"\"\n",
    "    melted_rows = []\n",
    "    for row in response_strs.itertuples():\n",
    "        try:\n",
    "            responses = [response.strip() for response in row.response_str.split(',')]\n",
    "        except AttributeError:\n",
    "            # If the response str can't be split, e.g., they didn't answer this question,\n",
    "            # put it as a single value in a list.\n",
    "            responses = [row.response_str]\n",
    "        \n",
    "        # Create a new row for each response\n",
    "        for response_n, response in enumerate(responses):\n",
    "            melted_rows.append(dict(person=row.person, question=row.question,\n",
    "                                    response_n=response_n, response=response))\n",
    "\n",
    "    return pandas.DataFrame.from_records(melted_rows,\n",
    "                                         columns=['person', 'question', 'response_n', 'response'])\n",
    "\n",
    "responses = melt_response_strs(response_strs)\n",
    "responses.head()"
   ]
  },
  {
   "cell_type": "markdown",
   "metadata": {
    "collapsed": true,
    "deletable": true,
    "editable": true
   },
   "source": [
    "## Next step: identifying different types of responses"
   ]
  },
  {
   "cell_type": "markdown",
   "metadata": {
    "deletable": true,
    "editable": true
   },
   "source": [
    "Right now we don't know anything about the type of question being answered. For example, some questions only allow one choice (radio button), while others allow free responses, e.g., an \"Other:\" choice. To properly understand the results of the survey it's helpful to know what the options were on any given question.\n",
    "\n",
    "You can easily keep a record of all choices for all survey questions by hand, but you know python. Rather than duplicating information (and keeping track of it by hand), why not just scrape the relevant information from the survey html? With python, it's not that hard."
   ]
  },
  {
   "cell_type": "code",
   "execution_count": 7,
   "metadata": {
    "collapsed": false
   },
   "outputs": [],
   "source": [
    "responses.to_csv('data/tidied.csv', index=False)"
   ]
  }
 ],
 "metadata": {
  "kernelspec": {
   "display_name": "Python 3",
   "language": "python",
   "name": "python3"
  },
  "language_info": {
   "codemirror_mode": {
    "name": "ipython",
    "version": 3
   },
   "file_extension": ".py",
   "mimetype": "text/x-python",
   "name": "python",
   "nbconvert_exporter": "python",
   "pygments_lexer": "ipython3",
   "version": "3.5.2"
  }
 },
 "nbformat": 4,
 "nbformat_minor": 2
}
