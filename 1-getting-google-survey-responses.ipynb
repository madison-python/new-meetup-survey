{
 "cells": [
  {
   "cell_type": "markdown",
   "metadata": {},
   "source": [
    "# Tidying the results of a Google survey"
   ]
  },
  {
   "cell_type": "markdown",
   "metadata": {},
   "source": [
    "We conducted a survey, and now we've got some results. Let's take a look. The survey responses have been deidentified and included in this repo as \"responses-deidentified.csv\". Here I'm reading this csv in with `pandas`. The `read_csv()` function returns a `DataFrame` object. Just to get a sense of what the data look like, I print the column names and first three rows with the `head()` method available on all `DataFrame` objects."
   ]
  },
  {
   "cell_type": "code",
   "execution_count": 2,
   "metadata": {
    "collapsed": false
   },
   "outputs": [
    {
     "data": {
      "text/html": [
       "<div>\n",
       "<table border=\"1\" class=\"dataframe\">\n",
       "  <thead>\n",
       "    <tr style=\"text-align: right;\">\n",
       "      <th></th>\n",
       "      <th>At what kind of facilities would you like to see the meetup?</th>\n",
       "      <th>At what skill level would you like to see events hosted?</th>\n",
       "      <th>How are you using Python?</th>\n",
       "      <th>How frequently would you be interested in attending MadPy meetings?</th>\n",
       "      <th>How would you prefer to communicate with the group online?</th>\n",
       "      <th>Is alcohol okay at meetups?</th>\n",
       "      <th>Is food okay at meetups?</th>\n",
       "      <th>What day(s) of the week work best for you?</th>\n",
       "      <th>What do you want to get out of a Madison Python meetup?</th>\n",
       "      <th>What format(s) of events would you like to see at MadPy?</th>\n",
       "      <th>What kind(s) of events would you like to see at MadPy?</th>\n",
       "      <th>What other tech meetups do you go to?</th>\n",
       "      <th>What time(s) of day work best for you?</th>\n",
       "      <th>Where in town works best for you to attend the meetup?</th>\n",
       "    </tr>\n",
       "  </thead>\n",
       "  <tbody>\n",
       "    <tr>\n",
       "      <th>0</th>\n",
       "      <td>Libraries, Bars, Restaurants, coffee shops</td>\n",
       "      <td>Introductory, Intermediate, Expert</td>\n",
       "      <td>Education (teaching &amp; undergraduate studies)</td>\n",
       "      <td>A few times a year</td>\n",
       "      <td>Email</td>\n",
       "      <td>Yes</td>\n",
       "      <td>Yes</td>\n",
       "      <td>Tuesday, Thursday, Friday</td>\n",
       "      <td>Skills training, collaboration on or help with...</td>\n",
       "      <td>Presentations, Python Schooling</td>\n",
       "      <td>Education (teaching &amp; undergraduate studies), ...</td>\n",
       "      <td>Madison Women in Tech (https://www.meetup.com/...</td>\n",
       "      <td>Work hours (8am - 6pm)</td>\n",
       "      <td>Downtown, East</td>\n",
       "    </tr>\n",
       "    <tr>\n",
       "      <th>1</th>\n",
       "      <td>Libraries, Bars, Restaurants, Offices, Depends...</td>\n",
       "      <td>NaN</td>\n",
       "      <td>Software (engineering/developing), Science (sc...</td>\n",
       "      <td>NaN</td>\n",
       "      <td>NaN</td>\n",
       "      <td>I'm ambivalent on this. Again, I would defer t...</td>\n",
       "      <td>If you are going to have it after work, i thin...</td>\n",
       "      <td>Wednesday, Thursday</td>\n",
       "      <td>NaN</td>\n",
       "      <td>Presentations, Hack Nights, Python Schooling, ...</td>\n",
       "      <td>NaN</td>\n",
       "      <td>NaN</td>\n",
       "      <td>After work hours (6pm - 9pm)</td>\n",
       "      <td>Downtown</td>\n",
       "    </tr>\n",
       "    <tr>\n",
       "      <th>2</th>\n",
       "      <td>Libraries, Bars, Offices</td>\n",
       "      <td>Introductory, Intermediate, Expert</td>\n",
       "      <td>SysAdmin/DevOps</td>\n",
       "      <td>A few times a year</td>\n",
       "      <td>Slack channel</td>\n",
       "      <td>Yes</td>\n",
       "      <td>Yes</td>\n",
       "      <td>Thursday</td>\n",
       "      <td>Knowledge growth</td>\n",
       "      <td>Presentations, Hack Nights, Python Schooling</td>\n",
       "      <td>SysAdmin/DevOps</td>\n",
       "      <td>Madison DevOps (https://www.meetup.com/Madison...</td>\n",
       "      <td>Work hours (8am - 6pm), After work hours (6pm ...</td>\n",
       "      <td>Near West</td>\n",
       "    </tr>\n",
       "  </tbody>\n",
       "</table>\n",
       "</div>"
      ],
      "text/plain": [
       "  At what kind of facilities would you like to see the meetup?  \\\n",
       "0         Libraries, Bars, Restaurants, coffee shops             \n",
       "1  Libraries, Bars, Restaurants, Offices, Depends...             \n",
       "2                           Libraries, Bars, Offices             \n",
       "\n",
       "  At what skill level would you like to see events hosted?  \\\n",
       "0                 Introductory, Intermediate, Expert         \n",
       "1                                                NaN         \n",
       "2                 Introductory, Intermediate, Expert         \n",
       "\n",
       "                           How are you using Python?  \\\n",
       "0       Education (teaching & undergraduate studies)   \n",
       "1  Software (engineering/developing), Science (sc...   \n",
       "2                                    SysAdmin/DevOps   \n",
       "\n",
       "  How frequently would you be interested in attending MadPy meetings?  \\\n",
       "0                                 A few times a year                    \n",
       "1                                                NaN                    \n",
       "2                                 A few times a year                    \n",
       "\n",
       "  How would you prefer to communicate with the group online?  \\\n",
       "0                                              Email           \n",
       "1                                                NaN           \n",
       "2                                      Slack channel           \n",
       "\n",
       "                         Is alcohol okay at meetups?  \\\n",
       "0                                                Yes   \n",
       "1  I'm ambivalent on this. Again, I would defer t...   \n",
       "2                                                Yes   \n",
       "\n",
       "                            Is food okay at meetups?  \\\n",
       "0                                                Yes   \n",
       "1  If you are going to have it after work, i thin...   \n",
       "2                                                Yes   \n",
       "\n",
       "  What day(s) of the week work best for you?  \\\n",
       "0                  Tuesday, Thursday, Friday   \n",
       "1                        Wednesday, Thursday   \n",
       "2                                   Thursday   \n",
       "\n",
       "  What do you want to get out of a Madison Python meetup?  \\\n",
       "0  Skills training, collaboration on or help with...        \n",
       "1                                                NaN        \n",
       "2                                   Knowledge growth        \n",
       "\n",
       "  What format(s) of events would you like to see at MadPy?  \\\n",
       "0                    Presentations, Python Schooling         \n",
       "1  Presentations, Hack Nights, Python Schooling, ...         \n",
       "2       Presentations, Hack Nights, Python Schooling         \n",
       "\n",
       "  What kind(s) of events would you like to see at MadPy?  \\\n",
       "0  Education (teaching & undergraduate studies), ...       \n",
       "1                                                NaN       \n",
       "2                                    SysAdmin/DevOps       \n",
       "\n",
       "               What other tech meetups do you go to?  \\\n",
       "0  Madison Women in Tech (https://www.meetup.com/...   \n",
       "1                                                NaN   \n",
       "2  Madison DevOps (https://www.meetup.com/Madison...   \n",
       "\n",
       "              What time(s) of day work best for you?  \\\n",
       "0                             Work hours (8am - 6pm)   \n",
       "1                       After work hours (6pm - 9pm)   \n",
       "2  Work hours (8am - 6pm), After work hours (6pm ...   \n",
       "\n",
       "  Where in town works best for you to attend the meetup?  \n",
       "0                                     Downtown, East      \n",
       "1                                           Downtown      \n",
       "2                                          Near West      "
      ]
     },
     "execution_count": 2,
     "metadata": {},
     "output_type": "execute_result"
    }
   ],
   "source": [
    "import pandas\n",
    "results = pandas.read_csv('responses-deidentified.csv')\n",
    "results.head(3)"
   ]
  },
  {
   "cell_type": "markdown",
   "metadata": {},
   "source": [
    "## Get a condensed view of all the survey questions"
   ]
  },
  {
   "cell_type": "markdown",
   "metadata": {},
   "source": [
    "The header column is very verbose, including the complete question text. Let's look at the survey questions in a more condensed form. These responses have been deidentified, which means that a few questions (email, additional comments) and id fields (timestamps) have been removed."
   ]
  },
  {
   "cell_type": "code",
   "execution_count": 3,
   "metadata": {
    "collapsed": false
   },
   "outputs": [
    {
     "data": {
      "text/plain": [
       "0            At what kind of facilities would you like to see the meetup?\n",
       "1                At what skill level would you like to see events hosted?\n",
       "2                                               How are you using Python?\n",
       "3     How frequently would you be interested in attending MadPy meetings?\n",
       "4              How would you prefer to communicate with the group online?\n",
       "5                                             Is alcohol okay at meetups?\n",
       "6                                                Is food okay at meetups?\n",
       "7                              What day(s) of the week work best for you?\n",
       "8                 What do you want to get out of a Madison Python meetup?\n",
       "9                What format(s) of events would you like to see at MadPy?\n",
       "10                 What kind(s) of events would you like to see at MadPy?\n",
       "11                                  What other tech meetups do you go to?\n",
       "12                                 What time(s) of day work best for you?\n",
       "13                 Where in town works best for you to attend the meetup?\n",
       "Name: question, dtype: object"
      ]
     },
     "execution_count": 3,
     "metadata": {},
     "output_type": "execute_result"
    }
   ],
   "source": [
    "questions = pandas.Series(results.columns, name='question')\n",
    "# Prevent print from truncating question text\n",
    "pandas.set_option('display.max_colwidth', int(questions.apply(len).max()+1))\n",
    "questions"
   ]
  },
  {
   "cell_type": "markdown",
   "metadata": {},
   "source": [
    "## Melting the data from wide to long"
   ]
  },
  {
   "cell_type": "markdown",
   "metadata": {},
   "source": [
    "The default output for Google survey responses is in \"wide format\" where a single person has multiple responses in each row. This is bad because it means our column headers contain data that we want to process. Really what we want is the survey responses in \"long format\", where each row is a single response, and then each person has multiple rows. To learn more about the benefits of wide versus long format, check out Hadley Wickham's paper [\"Tidy Data\"](https://www.jstatsoft.org/article/view/v059i10).\n",
    "\n",
    "To do the transformation, the first thing we need to do is assign a name for each person. This will help us keep responses together later on."
   ]
  },
  {
   "cell_type": "code",
   "execution_count": 5,
   "metadata": {
    "collapsed": false
   },
   "outputs": [
    {
     "ename": "ValueError",
     "evalue": "cannot insert person, already exists",
     "output_type": "error",
     "traceback": [
      "\u001b[0;31m---------------------------------------------------------------------------\u001b[0m",
      "\u001b[0;31mValueError\u001b[0m                                Traceback (most recent call last)",
      "\u001b[0;32m<ipython-input-5-8c2d16990183>\u001b[0m in \u001b[0;36m<module>\u001b[0;34m()\u001b[0m\n\u001b[1;32m      1\u001b[0m \u001b[0;31m# Give people names p0 ... pN\u001b[0m\u001b[0;34m\u001b[0m\u001b[0;34m\u001b[0m\u001b[0m\n\u001b[1;32m      2\u001b[0m \u001b[0mnames\u001b[0m \u001b[0;34m=\u001b[0m \u001b[0;34m[\u001b[0m\u001b[0;34m'p{}'\u001b[0m\u001b[0;34m.\u001b[0m\u001b[0mformat\u001b[0m\u001b[0;34m(\u001b[0m\u001b[0mi\u001b[0m\u001b[0;34m)\u001b[0m \u001b[0;32mfor\u001b[0m \u001b[0mi\u001b[0m \u001b[0;32min\u001b[0m \u001b[0mlist\u001b[0m\u001b[0;34m(\u001b[0m\u001b[0mresults\u001b[0m\u001b[0;34m.\u001b[0m\u001b[0mindex\u001b[0m\u001b[0;34m)\u001b[0m\u001b[0;34m]\u001b[0m\u001b[0;34m\u001b[0m\u001b[0m\n\u001b[0;32m----> 3\u001b[0;31m \u001b[0mresults\u001b[0m\u001b[0;34m.\u001b[0m\u001b[0minsert\u001b[0m\u001b[0;34m(\u001b[0m\u001b[0;36m0\u001b[0m\u001b[0;34m,\u001b[0m \u001b[0;34m'person'\u001b[0m\u001b[0;34m,\u001b[0m \u001b[0mnames\u001b[0m\u001b[0;34m)\u001b[0m  \u001b[0;31m# cf. results['person'] = names\u001b[0m\u001b[0;34m\u001b[0m\u001b[0m\n\u001b[0m\u001b[1;32m      4\u001b[0m \u001b[0mresults\u001b[0m\u001b[0;34m.\u001b[0m\u001b[0mhead\u001b[0m\u001b[0;34m(\u001b[0m\u001b[0;36m2\u001b[0m\u001b[0;34m)\u001b[0m\u001b[0;34m\u001b[0m\u001b[0m\n",
      "\u001b[0;32m/Users/work/.venvs/madpy/lib/python3.5/site-packages/pandas/core/frame.py\u001b[0m in \u001b[0;36minsert\u001b[0;34m(self, loc, column, value, allow_duplicates)\u001b[0m\n\u001b[1;32m   2509\u001b[0m         \u001b[0mvalue\u001b[0m \u001b[0;34m=\u001b[0m \u001b[0mself\u001b[0m\u001b[0;34m.\u001b[0m\u001b[0m_sanitize_column\u001b[0m\u001b[0;34m(\u001b[0m\u001b[0mcolumn\u001b[0m\u001b[0;34m,\u001b[0m \u001b[0mvalue\u001b[0m\u001b[0;34m,\u001b[0m \u001b[0mbroadcast\u001b[0m\u001b[0;34m=\u001b[0m\u001b[0;32mFalse\u001b[0m\u001b[0;34m)\u001b[0m\u001b[0;34m\u001b[0m\u001b[0m\n\u001b[1;32m   2510\u001b[0m         self._data.insert(loc, column, value,\n\u001b[0;32m-> 2511\u001b[0;31m                           allow_duplicates=allow_duplicates)\n\u001b[0m\u001b[1;32m   2512\u001b[0m \u001b[0;34m\u001b[0m\u001b[0m\n\u001b[1;32m   2513\u001b[0m     \u001b[0;32mdef\u001b[0m \u001b[0massign\u001b[0m\u001b[0;34m(\u001b[0m\u001b[0mself\u001b[0m\u001b[0;34m,\u001b[0m \u001b[0;34m**\u001b[0m\u001b[0mkwargs\u001b[0m\u001b[0;34m)\u001b[0m\u001b[0;34m:\u001b[0m\u001b[0;34m\u001b[0m\u001b[0m\n",
      "\u001b[0;32m/Users/work/.venvs/madpy/lib/python3.5/site-packages/pandas/core/internals.py\u001b[0m in \u001b[0;36minsert\u001b[0;34m(self, loc, item, value, allow_duplicates)\u001b[0m\n\u001b[1;32m   3759\u001b[0m         \u001b[0;32mif\u001b[0m \u001b[0;32mnot\u001b[0m \u001b[0mallow_duplicates\u001b[0m \u001b[0;32mand\u001b[0m \u001b[0mitem\u001b[0m \u001b[0;32min\u001b[0m \u001b[0mself\u001b[0m\u001b[0;34m.\u001b[0m\u001b[0mitems\u001b[0m\u001b[0;34m:\u001b[0m\u001b[0;34m\u001b[0m\u001b[0m\n\u001b[1;32m   3760\u001b[0m             \u001b[0;31m# Should this be a different kind of error??\u001b[0m\u001b[0;34m\u001b[0m\u001b[0;34m\u001b[0m\u001b[0m\n\u001b[0;32m-> 3761\u001b[0;31m             \u001b[0;32mraise\u001b[0m \u001b[0mValueError\u001b[0m\u001b[0;34m(\u001b[0m\u001b[0;34m'cannot insert %s, already exists'\u001b[0m \u001b[0;34m%\u001b[0m \u001b[0mitem\u001b[0m\u001b[0;34m)\u001b[0m\u001b[0;34m\u001b[0m\u001b[0m\n\u001b[0m\u001b[1;32m   3762\u001b[0m \u001b[0;34m\u001b[0m\u001b[0m\n\u001b[1;32m   3763\u001b[0m         \u001b[0;32mif\u001b[0m \u001b[0;32mnot\u001b[0m \u001b[0misinstance\u001b[0m\u001b[0;34m(\u001b[0m\u001b[0mloc\u001b[0m\u001b[0;34m,\u001b[0m \u001b[0mint\u001b[0m\u001b[0;34m)\u001b[0m\u001b[0;34m:\u001b[0m\u001b[0;34m\u001b[0m\u001b[0m\n",
      "\u001b[0;31mValueError\u001b[0m: cannot insert person, already exists"
     ]
    }
   ],
   "source": [
    "# Give people names p0 ... pN\n",
    "names = ['p{}'.format(i) for i in list(results.index)]\n",
    "results.insert(0, 'person', names)  # cf. results['person'] = names\n",
    "results.head(2)"
   ]
  },
  {
   "cell_type": "markdown",
   "metadata": {},
   "source": [
    "Now we can transform the data from wide to long format using the `pandas.melt()` function. The first argument is the DataFrame we are melting. Then we provide the \"id_vars\". These are the variables that will become duplicated in the melted DataFrame. For survey responses, the id variable is \"person\", meaning each person will go from having responses in one row to having responses in multiple rows.\n",
    "\n",
    "The other variables (\"var_name\" and \"value_name\") are optional, they just provide the names for the resulting columns. \"var_name\" is the name for the new column containing the names of the old columns. In our case, the column headers are question texts, so we set this to \"question\". The \"value_name\" is the name of the data in the cell of the original DataFrame. In our case, the data are responses. For some questions (e.g. questions with checkboxes) these responses are actually multiple responses joined together with a comma. We'll split them later. For now, let's call the value column \"response_str\" to remind ourselves that we aren't yet to a single response per row."
   ]
  },
  {
   "cell_type": "code",
   "execution_count": 1,
   "metadata": {
    "collapsed": false
   },
   "outputs": [
    {
     "ename": "NameError",
     "evalue": "name 'pandas' is not defined",
     "output_type": "error",
     "traceback": [
      "\u001b[0;31m---------------------------------------------------------------------------\u001b[0m",
      "\u001b[0;31mNameError\u001b[0m                                 Traceback (most recent call last)",
      "\u001b[0;32m<ipython-input-1-0c303eabcddd>\u001b[0m in \u001b[0;36m<module>\u001b[0;34m()\u001b[0m\n\u001b[0;32m----> 1\u001b[0;31m \u001b[0mresponse_strs\u001b[0m \u001b[0;34m=\u001b[0m \u001b[0mpandas\u001b[0m\u001b[0;34m.\u001b[0m\u001b[0mmelt\u001b[0m\u001b[0;34m(\u001b[0m\u001b[0mresults\u001b[0m\u001b[0;34m,\u001b[0m \u001b[0;34m'person'\u001b[0m\u001b[0;34m,\u001b[0m \u001b[0mvar_name\u001b[0m\u001b[0;34m=\u001b[0m\u001b[0;34m'question'\u001b[0m\u001b[0;34m,\u001b[0m \u001b[0mvalue_name\u001b[0m\u001b[0;34m=\u001b[0m\u001b[0;34m'response_str'\u001b[0m\u001b[0;34m)\u001b[0m\u001b[0;34m\u001b[0m\u001b[0m\n\u001b[0m\u001b[1;32m      2\u001b[0m \u001b[0mresponse_strs\u001b[0m\u001b[0;34m.\u001b[0m\u001b[0mhead\u001b[0m\u001b[0;34m(\u001b[0m\u001b[0;36m3\u001b[0m\u001b[0;34m)\u001b[0m\u001b[0;34m\u001b[0m\u001b[0m\n",
      "\u001b[0;31mNameError\u001b[0m: name 'pandas' is not defined"
     ]
    }
   ],
   "source": [
    "response_strs = pandas.melt(results, 'person', var_name='question', value_name='response_str')\n",
    "response_strs.head(3)"
   ]
  },
  {
   "cell_type": "markdown",
   "metadata": {},
   "source": [
    "Another helpful function on DataFrames is `sort_values()`. After the melt, by default responses are grouped by question. Here I'm using the `sort_values()` function to rearrange the DataFrame by person to show how now each person's responses are spit across multiple rows after the split."
   ]
  },
  {
   "cell_type": "code",
   "execution_count": 5,
   "metadata": {
    "collapsed": false
   },
   "outputs": [
    {
     "data": {
      "text/html": [
       "<div>\n",
       "<table border=\"1\" class=\"dataframe\">\n",
       "  <thead>\n",
       "    <tr style=\"text-align: right;\">\n",
       "      <th></th>\n",
       "      <th>person</th>\n",
       "      <th>question</th>\n",
       "      <th>response_str</th>\n",
       "    </tr>\n",
       "  </thead>\n",
       "  <tbody>\n",
       "    <tr>\n",
       "      <th>0</th>\n",
       "      <td>p0</td>\n",
       "      <td>At what kind of facilities would you like to see the meetup?</td>\n",
       "      <td>Libraries, Bars, Restaurants, Offices</td>\n",
       "    </tr>\n",
       "    <tr>\n",
       "      <th>688</th>\n",
       "      <td>p0</td>\n",
       "      <td>What do you want to get out of a Madison Python meetup?</td>\n",
       "      <td>NaN</td>\n",
       "    </tr>\n",
       "    <tr>\n",
       "      <th>602</th>\n",
       "      <td>p0</td>\n",
       "      <td>What day(s) of the week work best for you?</td>\n",
       "      <td>Monday, Wednesday, Sunday</td>\n",
       "    </tr>\n",
       "  </tbody>\n",
       "</table>\n",
       "</div>"
      ],
      "text/plain": [
       "    person                                                      question  \\\n",
       "0       p0  At what kind of facilities would you like to see the meetup?   \n",
       "688     p0       What do you want to get out of a Madison Python meetup?   \n",
       "602     p0                    What day(s) of the week work best for you?   \n",
       "\n",
       "                              response_str  \n",
       "0    Libraries, Bars, Restaurants, Offices  \n",
       "688                                    NaN  \n",
       "602              Monday, Wednesday, Sunday  "
      ]
     },
     "execution_count": 5,
     "metadata": {},
     "output_type": "execute_result"
    }
   ],
   "source": [
    "response_strs.sort_values('person').head(3)"
   ]
  },
  {
   "cell_type": "markdown",
   "metadata": {},
   "source": [
    "## Splitting responses"
   ]
  },
  {
   "cell_type": "markdown",
   "metadata": {},
   "source": [
    "The last step is to split \"response_str\" into multiple responses. Basically we are melting the DataFrame again, this time on the number response for each question. But we can't use the `melt()` function because the multiple responses are contained within a single value (not split across multiple columns), and there are a variable number of responses within each response string. To help me do this, I'm going to write a custom melt function that accepts a DataFrame containing the response strings, and returns a longer pandas.DataFrame of responses--one per row."
   ]
  },
  {
   "cell_type": "code",
   "execution_count": 9,
   "metadata": {
    "collapsed": false
   },
   "outputs": [
    {
     "data": {
      "text/html": [
       "<div>\n",
       "<table border=\"1\" class=\"dataframe\">\n",
       "  <thead>\n",
       "    <tr style=\"text-align: right;\">\n",
       "      <th></th>\n",
       "      <th>person</th>\n",
       "      <th>question</th>\n",
       "      <th>response_n</th>\n",
       "      <th>response</th>\n",
       "    </tr>\n",
       "  </thead>\n",
       "  <tbody>\n",
       "    <tr>\n",
       "      <th>0</th>\n",
       "      <td>p0</td>\n",
       "      <td>At what kind of facilities would you like to see the meetup?</td>\n",
       "      <td>0</td>\n",
       "      <td>Libraries</td>\n",
       "    </tr>\n",
       "    <tr>\n",
       "      <th>1</th>\n",
       "      <td>p0</td>\n",
       "      <td>At what kind of facilities would you like to see the meetup?</td>\n",
       "      <td>1</td>\n",
       "      <td>Bars</td>\n",
       "    </tr>\n",
       "    <tr>\n",
       "      <th>2</th>\n",
       "      <td>p0</td>\n",
       "      <td>At what kind of facilities would you like to see the meetup?</td>\n",
       "      <td>2</td>\n",
       "      <td>Restaurants</td>\n",
       "    </tr>\n",
       "    <tr>\n",
       "      <th>3</th>\n",
       "      <td>p0</td>\n",
       "      <td>At what kind of facilities would you like to see the meetup?</td>\n",
       "      <td>3</td>\n",
       "      <td>Offices</td>\n",
       "    </tr>\n",
       "    <tr>\n",
       "      <th>4</th>\n",
       "      <td>p1</td>\n",
       "      <td>At what kind of facilities would you like to see the meetup?</td>\n",
       "      <td>0</td>\n",
       "      <td>Libraries</td>\n",
       "    </tr>\n",
       "  </tbody>\n",
       "</table>\n",
       "</div>"
      ],
      "text/plain": [
       "  person                                                      question  \\\n",
       "0     p0  At what kind of facilities would you like to see the meetup?   \n",
       "1     p0  At what kind of facilities would you like to see the meetup?   \n",
       "2     p0  At what kind of facilities would you like to see the meetup?   \n",
       "3     p0  At what kind of facilities would you like to see the meetup?   \n",
       "4     p1  At what kind of facilities would you like to see the meetup?   \n",
       "\n",
       "   response_n     response  \n",
       "0           0    Libraries  \n",
       "1           1         Bars  \n",
       "2           2  Restaurants  \n",
       "3           3      Offices  \n",
       "4           0    Libraries  "
      ]
     },
     "execution_count": 9,
     "metadata": {},
     "output_type": "execute_result"
    }
   ],
   "source": [
    "def melt_response_strs(response_strs):\n",
    "    \"\"\"Given a DataFrame with response strings return a DataFrame with one response per row.\n",
    "    \n",
    "    An example response str is 'Libraries, Offices'. The resulting DataFrame will have\n",
    "    two rows, one for each response item, e.g, ['Libraries', 'Offices'].\n",
    "    \"\"\"\n",
    "    melted_rows = []\n",
    "    for row in response_strs.itertuples():\n",
    "        try:\n",
    "            responses = [response.strip() for response in row.response_str.split(',')]\n",
    "        except AttributeError:\n",
    "            # If the response str can't be split, e.g., they didn't answer this question,\n",
    "            # put it as a single value in a list.\n",
    "            responses = [row.response_str]\n",
    "        \n",
    "        # Create a new row for each response\n",
    "        for response_n, response in enumerate(responses):\n",
    "            melted_rows.append(dict(person=row.person, question=row.question,\n",
    "                                    response_n=response_n, response=response))\n",
    "\n",
    "    return pandas.DataFrame.from_records(melted_rows,\n",
    "                                         columns=['person', 'question', 'response_n', 'response'])\n",
    "\n",
    "responses = melt_response_strs(response_strs)\n",
    "responses.head()"
   ]
  },
  {
   "cell_type": "markdown",
   "metadata": {
    "collapsed": true
   },
   "source": [
    "## Next step: identifying different types of responses"
   ]
  },
  {
   "cell_type": "markdown",
   "metadata": {},
   "source": [
    "Right now we don't know anything about the type of question being answered. For example, some questions only allow one choice (radio button), while others allow free responses, e.g., an \"Other:\" choice. To properly understand the results of the survey it's helpful to know what the options were on any given question.\n",
    "\n",
    "You can easily keep a record of all choices for all survey questions by hand, but you know python. Rather than duplicating information (and keeping track of it by hand), why not just scrape the relevant information from the survey html? With python, it's not that hard."
   ]
  }
 ],
 "metadata": {
  "kernelspec": {
   "display_name": "Python 3",
   "language": "python",
   "name": "python3"
  },
  "language_info": {
   "codemirror_mode": {
    "name": "ipython",
    "version": 3
   },
   "file_extension": ".py",
   "mimetype": "text/x-python",
   "name": "python",
   "nbconvert_exporter": "python",
   "pygments_lexer": "ipython3",
   "version": "3.5.2"
  }
 },
 "nbformat": 4,
 "nbformat_minor": 2
}
