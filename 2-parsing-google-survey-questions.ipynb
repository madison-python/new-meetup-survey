{
 "cells": [
  {
   "cell_type": "markdown",
   "metadata": {},
   "source": [
    "When understanding the results of a survey, it helps to know what the options where. The options in each question can be derived from the range of survey responses (e.g., unique responses), but a better approach is to construct a representation of the survey independent of the responses. In this notebook, I'll walk through extracting the necessary data **from the survey html page**. I'll use `requests` to download the survey page, and `BeautifulSoup` to search the page for question elements. The result is a csv data file with one row per question."
   ]
  },
  {
   "cell_type": "code",
   "execution_count": null,
   "metadata": {
    "collapsed": true
   },
   "outputs": [],
   "source": []
  }
 ],
 "metadata": {
  "kernelspec": {
   "display_name": "Python 3",
   "language": "python",
   "name": "python3"
  },
  "language_info": {
   "codemirror_mode": {
    "name": "ipython",
    "version": 3
   },
   "file_extension": ".py",
   "mimetype": "text/x-python",
   "name": "python",
   "nbconvert_exporter": "python",
   "pygments_lexer": "ipython3",
   "version": "3.5.2"
  }
 },
 "nbformat": 4,
 "nbformat_minor": 2
}
