{
 "cells": [
  {
   "cell_type": "markdown",
   "metadata": {},
   "source": [
    "# Madpy survey results"
   ]
  },
  {
   "cell_type": "markdown",
   "metadata": {},
   "source": [
    "Let's check out the results of the Madpy survey! The survey responses have been deidentified and included in this repo as a csv named \"responses-deidentified.csv\". Here I'm reading this csv in with `pandas`. The `read_csv()` function returns a `DataFrame` object which I'm calling \"results\". Just to get a sense of what the data look like, I print the column names and first three rows with the `head()` method available on all `DataFrame` objects."
   ]
  },
  {
   "cell_type": "code",
   "execution_count": 1,
   "metadata": {
    "collapsed": false
   },
   "outputs": [
    {
     "data": {
      "text/html": [
       "<div>\n",
       "<table border=\"1\" class=\"dataframe\">\n",
       "  <thead>\n",
       "    <tr style=\"text-align: right;\">\n",
       "      <th></th>\n",
       "      <th>At what kind of facilities would you like to see the meetup?</th>\n",
       "      <th>At what skill level would you like to see events hosted?</th>\n",
       "      <th>How are you using Python?</th>\n",
       "      <th>How frequently would you be interested in attending MadPy meetings?</th>\n",
       "      <th>How would you prefer to communicate with the group online?</th>\n",
       "      <th>Is alcohol okay at meetups?</th>\n",
       "      <th>Is food okay at meetups?</th>\n",
       "      <th>What day(s) of the week work best for you?</th>\n",
       "      <th>What do you want to get out of a Madison Python meetup?</th>\n",
       "      <th>What format(s) of events would you like to see at MadPy?</th>\n",
       "      <th>What kind(s) of events would you like to see at MadPy?</th>\n",
       "      <th>What other tech meetups do you go to?</th>\n",
       "      <th>What time(s) of day work best for you?</th>\n",
       "      <th>Where in town works best for you to attend the meetup?</th>\n",
       "    </tr>\n",
       "  </thead>\n",
       "  <tbody>\n",
       "    <tr>\n",
       "      <th>0</th>\n",
       "      <td>Libraries, Offices</td>\n",
       "      <td>Intermediate, Expert</td>\n",
       "      <td>Software (engineering/developing), Science (sc...</td>\n",
       "      <td>A few times a year, Monthly</td>\n",
       "      <td>Email, Slack channel</td>\n",
       "      <td>Yes</td>\n",
       "      <td>Yes</td>\n",
       "      <td>Monday, Wednesday, Saturday, Sunday</td>\n",
       "      <td>Best practices.  Improve my python skills.  He...</td>\n",
       "      <td>Presentations, Hack Nights</td>\n",
       "      <td>Software (engineering/developing), Science (sc...</td>\n",
       "      <td>Big Data Madison (https://www.meetup.com/BigDa...</td>\n",
       "      <td>After work hours (6pm - 9pm)</td>\n",
       "      <td>Downtown, East</td>\n",
       "    </tr>\n",
       "    <tr>\n",
       "      <th>1</th>\n",
       "      <td>Libraries, Bars, Restaurants, Offices</td>\n",
       "      <td>Introductory, Intermediate, Expert</td>\n",
       "      <td>Science (scientific &amp; numeric computing/data s...</td>\n",
       "      <td>Monthly</td>\n",
       "      <td>Email, Slack channel</td>\n",
       "      <td>Yes</td>\n",
       "      <td>Yes</td>\n",
       "      <td>Monday, Wednesday, Sunday</td>\n",
       "      <td>NaN</td>\n",
       "      <td>Presentations, Python Schooling</td>\n",
       "      <td>Science (scientific &amp; numeric computing/data s...</td>\n",
       "      <td>MadJS (https://www.meetup.com/MadisonJS), Big ...</td>\n",
       "      <td>After work hours (6pm - 9pm)</td>\n",
       "      <td>Far West, Near West, Downtown</td>\n",
       "    </tr>\n",
       "    <tr>\n",
       "      <th>2</th>\n",
       "      <td>Libraries, Offices</td>\n",
       "      <td>Introductory, Intermediate, Expert</td>\n",
       "      <td>Science (scientific &amp; numeric computing/data s...</td>\n",
       "      <td>Monthly</td>\n",
       "      <td>Email</td>\n",
       "      <td>depends on location</td>\n",
       "      <td>Yes</td>\n",
       "      <td>Wednesday</td>\n",
       "      <td>NaN</td>\n",
       "      <td>Presentations, Python Schooling</td>\n",
       "      <td>Science (scientific &amp; numeric computing/data s...</td>\n",
       "      <td>Big Data Madison (https://www.meetup.com/BigDa...</td>\n",
       "      <td>After work hours (6pm - 9pm)</td>\n",
       "      <td>Near West</td>\n",
       "    </tr>\n",
       "  </tbody>\n",
       "</table>\n",
       "</div>"
      ],
      "text/plain": [
       "  At what kind of facilities would you like to see the meetup?  \\\n",
       "0                                 Libraries, Offices             \n",
       "1              Libraries, Bars, Restaurants, Offices             \n",
       "2                                 Libraries, Offices             \n",
       "\n",
       "  At what skill level would you like to see events hosted?  \\\n",
       "0                               Intermediate, Expert         \n",
       "1                 Introductory, Intermediate, Expert         \n",
       "2                 Introductory, Intermediate, Expert         \n",
       "\n",
       "                           How are you using Python?  \\\n",
       "0  Software (engineering/developing), Science (sc...   \n",
       "1  Science (scientific & numeric computing/data s...   \n",
       "2  Science (scientific & numeric computing/data s...   \n",
       "\n",
       "  How frequently would you be interested in attending MadPy meetings?  \\\n",
       "0                        A few times a year, Monthly                    \n",
       "1                                            Monthly                    \n",
       "2                                            Monthly                    \n",
       "\n",
       "  How would you prefer to communicate with the group online?  \\\n",
       "0                               Email, Slack channel           \n",
       "1                               Email, Slack channel           \n",
       "2                                              Email           \n",
       "\n",
       "  Is alcohol okay at meetups? Is food okay at meetups?  \\\n",
       "0                         Yes                      Yes   \n",
       "1                         Yes                      Yes   \n",
       "2         depends on location                      Yes   \n",
       "\n",
       "  What day(s) of the week work best for you?  \\\n",
       "0        Monday, Wednesday, Saturday, Sunday   \n",
       "1                  Monday, Wednesday, Sunday   \n",
       "2                                  Wednesday   \n",
       "\n",
       "  What do you want to get out of a Madison Python meetup?  \\\n",
       "0  Best practices.  Improve my python skills.  He...        \n",
       "1                                                NaN        \n",
       "2                                                NaN        \n",
       "\n",
       "  What format(s) of events would you like to see at MadPy?  \\\n",
       "0                         Presentations, Hack Nights         \n",
       "1                    Presentations, Python Schooling         \n",
       "2                    Presentations, Python Schooling         \n",
       "\n",
       "  What kind(s) of events would you like to see at MadPy?  \\\n",
       "0  Software (engineering/developing), Science (sc...       \n",
       "1  Science (scientific & numeric computing/data s...       \n",
       "2  Science (scientific & numeric computing/data s...       \n",
       "\n",
       "               What other tech meetups do you go to?  \\\n",
       "0  Big Data Madison (https://www.meetup.com/BigDa...   \n",
       "1  MadJS (https://www.meetup.com/MadisonJS), Big ...   \n",
       "2  Big Data Madison (https://www.meetup.com/BigDa...   \n",
       "\n",
       "  What time(s) of day work best for you?  \\\n",
       "0           After work hours (6pm - 9pm)   \n",
       "1           After work hours (6pm - 9pm)   \n",
       "2           After work hours (6pm - 9pm)   \n",
       "\n",
       "  Where in town works best for you to attend the meetup?  \n",
       "0                                     Downtown, East      \n",
       "1                      Far West, Near West, Downtown      \n",
       "2                                          Near West      "
      ]
     },
     "execution_count": 1,
     "metadata": {},
     "output_type": "execute_result"
    }
   ],
   "source": [
    "import pandas\n",
    "results = pandas.read_csv('responses-deidentified.csv')\n",
    "results.head(3)"
   ]
  },
  {
   "cell_type": "markdown",
   "metadata": {},
   "source": [
    "## Renaming columns with (shorter) question ids"
   ]
  },
  {
   "cell_type": "markdown",
   "metadata": {},
   "source": [
    "The header column is very verbose, including the complete question text. I want to replace these verbose column headers with something shorter, but I still want to keep the complete question text available for reference. The first thing I do is create a more concise map of questions to numbers. Then I can replace the verbose column headers with the shorter values contained in the map."
   ]
  },
  {
   "cell_type": "code",
   "execution_count": 2,
   "metadata": {
    "collapsed": false
   },
   "outputs": [
    {
     "data": {
      "text/html": [
       "<div>\n",
       "<table border=\"1\" class=\"dataframe\">\n",
       "  <thead>\n",
       "    <tr style=\"text-align: right;\">\n",
       "      <th></th>\n",
       "      <th>id</th>\n",
       "      <th>question</th>\n",
       "    </tr>\n",
       "  </thead>\n",
       "  <tbody>\n",
       "    <tr>\n",
       "      <th>0</th>\n",
       "      <td>q0</td>\n",
       "      <td>At what kind of facilities would you like to see the meetup?</td>\n",
       "    </tr>\n",
       "    <tr>\n",
       "      <th>1</th>\n",
       "      <td>q1</td>\n",
       "      <td>At what skill level would you like to see events hosted?</td>\n",
       "    </tr>\n",
       "    <tr>\n",
       "      <th>2</th>\n",
       "      <td>q2</td>\n",
       "      <td>How are you using Python?</td>\n",
       "    </tr>\n",
       "    <tr>\n",
       "      <th>3</th>\n",
       "      <td>q3</td>\n",
       "      <td>How frequently would you be interested in attending MadPy meetings?</td>\n",
       "    </tr>\n",
       "    <tr>\n",
       "      <th>4</th>\n",
       "      <td>q4</td>\n",
       "      <td>How would you prefer to communicate with the group online?</td>\n",
       "    </tr>\n",
       "    <tr>\n",
       "      <th>5</th>\n",
       "      <td>q5</td>\n",
       "      <td>Is alcohol okay at meetups?</td>\n",
       "    </tr>\n",
       "    <tr>\n",
       "      <th>6</th>\n",
       "      <td>q6</td>\n",
       "      <td>Is food okay at meetups?</td>\n",
       "    </tr>\n",
       "    <tr>\n",
       "      <th>7</th>\n",
       "      <td>q7</td>\n",
       "      <td>What day(s) of the week work best for you?</td>\n",
       "    </tr>\n",
       "    <tr>\n",
       "      <th>8</th>\n",
       "      <td>q8</td>\n",
       "      <td>What do you want to get out of a Madison Python meetup?</td>\n",
       "    </tr>\n",
       "    <tr>\n",
       "      <th>9</th>\n",
       "      <td>q9</td>\n",
       "      <td>What format(s) of events would you like to see at MadPy?</td>\n",
       "    </tr>\n",
       "    <tr>\n",
       "      <th>10</th>\n",
       "      <td>q10</td>\n",
       "      <td>What kind(s) of events would you like to see at MadPy?</td>\n",
       "    </tr>\n",
       "    <tr>\n",
       "      <th>11</th>\n",
       "      <td>q11</td>\n",
       "      <td>What other tech meetups do you go to?</td>\n",
       "    </tr>\n",
       "    <tr>\n",
       "      <th>12</th>\n",
       "      <td>q12</td>\n",
       "      <td>What time(s) of day work best for you?</td>\n",
       "    </tr>\n",
       "    <tr>\n",
       "      <th>13</th>\n",
       "      <td>q13</td>\n",
       "      <td>Where in town works best for you to attend the meetup?</td>\n",
       "    </tr>\n",
       "  </tbody>\n",
       "</table>\n",
       "</div>"
      ],
      "text/plain": [
       "     id                                                             question\n",
       "0    q0         At what kind of facilities would you like to see the meetup?\n",
       "1    q1             At what skill level would you like to see events hosted?\n",
       "2    q2                                            How are you using Python?\n",
       "3    q3  How frequently would you be interested in attending MadPy meetings?\n",
       "4    q4           How would you prefer to communicate with the group online?\n",
       "5    q5                                          Is alcohol okay at meetups?\n",
       "6    q6                                             Is food okay at meetups?\n",
       "7    q7                           What day(s) of the week work best for you?\n",
       "8    q8              What do you want to get out of a Madison Python meetup?\n",
       "9    q9             What format(s) of events would you like to see at MadPy?\n",
       "10  q10               What kind(s) of events would you like to see at MadPy?\n",
       "11  q11                                What other tech meetups do you go to?\n",
       "12  q12                               What time(s) of day work best for you?\n",
       "13  q13               Where in town works best for you to attend the meetup?"
      ]
     },
     "execution_count": 2,
     "metadata": {},
     "output_type": "execute_result"
    }
   ],
   "source": [
    "questions = pandas.DataFrame(dict(question=results.columns))\n",
    "questions.insert(0, 'id', ['q{}'.format(i) for i in questions.index])\n",
    "\n",
    "# Prevent output from truncating questions\n",
    "pandas.set_option('display.max_colwidth', questions.question.apply(len).max().item() + 1)\n",
    "questions"
   ]
  },
  {
   "cell_type": "code",
   "execution_count": 3,
   "metadata": {
    "collapsed": false
   },
   "outputs": [
    {
     "data": {
      "text/html": [
       "<div>\n",
       "<table border=\"1\" class=\"dataframe\">\n",
       "  <thead>\n",
       "    <tr style=\"text-align: right;\">\n",
       "      <th>id</th>\n",
       "      <th>q0</th>\n",
       "      <th>q1</th>\n",
       "      <th>q2</th>\n",
       "      <th>q3</th>\n",
       "      <th>q4</th>\n",
       "      <th>q5</th>\n",
       "      <th>q6</th>\n",
       "      <th>q7</th>\n",
       "      <th>q8</th>\n",
       "      <th>q9</th>\n",
       "      <th>q10</th>\n",
       "      <th>q11</th>\n",
       "      <th>q12</th>\n",
       "      <th>q13</th>\n",
       "    </tr>\n",
       "  </thead>\n",
       "  <tbody>\n",
       "    <tr>\n",
       "      <th>0</th>\n",
       "      <td>Libraries, Offices</td>\n",
       "      <td>Intermediate, Expert</td>\n",
       "      <td>Software (engineering/developing), Science (scientific &amp; numeric...</td>\n",
       "      <td>A few times a year, Monthly</td>\n",
       "      <td>Email, Slack channel</td>\n",
       "      <td>Yes</td>\n",
       "      <td>Yes</td>\n",
       "      <td>Monday, Wednesday, Saturday, Sunday</td>\n",
       "      <td>Best practices.  Improve my python skills.  Hear about careers u...</td>\n",
       "      <td>Presentations, Hack Nights</td>\n",
       "      <td>Software (engineering/developing), Science (scientific &amp; numeric...</td>\n",
       "      <td>Big Data Madison (https://www.meetup.com/BigDataMadison), Data S...</td>\n",
       "      <td>After work hours (6pm - 9pm)</td>\n",
       "      <td>Downtown, East</td>\n",
       "    </tr>\n",
       "    <tr>\n",
       "      <th>1</th>\n",
       "      <td>Libraries, Bars, Restaurants, Offices</td>\n",
       "      <td>Introductory, Intermediate, Expert</td>\n",
       "      <td>Science (scientific &amp; numeric computing/data science), new user</td>\n",
       "      <td>Monthly</td>\n",
       "      <td>Email, Slack channel</td>\n",
       "      <td>Yes</td>\n",
       "      <td>Yes</td>\n",
       "      <td>Monday, Wednesday, Sunday</td>\n",
       "      <td>NaN</td>\n",
       "      <td>Presentations, Python Schooling</td>\n",
       "      <td>Science (scientific &amp; numeric computing/data science), Web (djan...</td>\n",
       "      <td>MadJS (https://www.meetup.com/MadisonJS), Big Data Madison (http...</td>\n",
       "      <td>After work hours (6pm - 9pm)</td>\n",
       "      <td>Far West, Near West, Downtown</td>\n",
       "    </tr>\n",
       "    <tr>\n",
       "      <th>2</th>\n",
       "      <td>Libraries, Offices</td>\n",
       "      <td>Introductory, Intermediate, Expert</td>\n",
       "      <td>Science (scientific &amp; numeric computing/data science)</td>\n",
       "      <td>Monthly</td>\n",
       "      <td>Email</td>\n",
       "      <td>depends on location</td>\n",
       "      <td>Yes</td>\n",
       "      <td>Wednesday</td>\n",
       "      <td>NaN</td>\n",
       "      <td>Presentations, Python Schooling</td>\n",
       "      <td>Science (scientific &amp; numeric computing/data science)</td>\n",
       "      <td>Big Data Madison (https://www.meetup.com/BigDataMadison), Data S...</td>\n",
       "      <td>After work hours (6pm - 9pm)</td>\n",
       "      <td>Near West</td>\n",
       "    </tr>\n",
       "  </tbody>\n",
       "</table>\n",
       "</div>"
      ],
      "text/plain": [
       "id                                     q0                                  q1  \\\n",
       "0                      Libraries, Offices                Intermediate, Expert   \n",
       "1   Libraries, Bars, Restaurants, Offices  Introductory, Intermediate, Expert   \n",
       "2                      Libraries, Offices  Introductory, Intermediate, Expert   \n",
       "\n",
       "id                                                                   q2  \\\n",
       "0   Software (engineering/developing), Science (scientific & numeric...   \n",
       "1       Science (scientific & numeric computing/data science), new user   \n",
       "2                 Science (scientific & numeric computing/data science)   \n",
       "\n",
       "id                           q3                    q4                   q5  \\\n",
       "0   A few times a year, Monthly  Email, Slack channel                  Yes   \n",
       "1                       Monthly  Email, Slack channel                  Yes   \n",
       "2                       Monthly                 Email  depends on location   \n",
       "\n",
       "id   q6                                   q7  \\\n",
       "0   Yes  Monday, Wednesday, Saturday, Sunday   \n",
       "1   Yes            Monday, Wednesday, Sunday   \n",
       "2   Yes                            Wednesday   \n",
       "\n",
       "id                                                                   q8  \\\n",
       "0   Best practices.  Improve my python skills.  Hear about careers u...   \n",
       "1                                                                   NaN   \n",
       "2                                                                   NaN   \n",
       "\n",
       "id                               q9  \\\n",
       "0        Presentations, Hack Nights   \n",
       "1   Presentations, Python Schooling   \n",
       "2   Presentations, Python Schooling   \n",
       "\n",
       "id                                                                  q10  \\\n",
       "0   Software (engineering/developing), Science (scientific & numeric...   \n",
       "1   Science (scientific & numeric computing/data science), Web (djan...   \n",
       "2                 Science (scientific & numeric computing/data science)   \n",
       "\n",
       "id                                                                  q11  \\\n",
       "0   Big Data Madison (https://www.meetup.com/BigDataMadison), Data S...   \n",
       "1   MadJS (https://www.meetup.com/MadisonJS), Big Data Madison (http...   \n",
       "2   Big Data Madison (https://www.meetup.com/BigDataMadison), Data S...   \n",
       "\n",
       "id                           q12                            q13  \n",
       "0   After work hours (6pm - 9pm)                 Downtown, East  \n",
       "1   After work hours (6pm - 9pm)  Far West, Near West, Downtown  \n",
       "2   After work hours (6pm - 9pm)                      Near West  "
      ]
     },
     "execution_count": 3,
     "metadata": {},
     "output_type": "execute_result"
    }
   ],
   "source": [
    "results = pandas.read_csv('responses-deidentified.csv')\n",
    "results.columns = questions.id\n",
    "results.head(3)"
   ]
  },
  {
   "cell_type": "markdown",
   "metadata": {},
   "source": [
    "## Melting the data from wide to long"
   ]
  },
  {
   "cell_type": "code",
   "execution_count": 4,
   "metadata": {
    "collapsed": false
   },
   "outputs": [
    {
     "data": {
      "text/html": [
       "<div>\n",
       "<table border=\"1\" class=\"dataframe\">\n",
       "  <thead>\n",
       "    <tr style=\"text-align: right;\">\n",
       "      <th>id</th>\n",
       "      <th>person</th>\n",
       "      <th>q0</th>\n",
       "      <th>q1</th>\n",
       "      <th>q2</th>\n",
       "      <th>q3</th>\n",
       "      <th>q4</th>\n",
       "      <th>q5</th>\n",
       "      <th>q6</th>\n",
       "      <th>q7</th>\n",
       "      <th>q8</th>\n",
       "      <th>q9</th>\n",
       "      <th>q10</th>\n",
       "      <th>q11</th>\n",
       "      <th>q12</th>\n",
       "      <th>q13</th>\n",
       "    </tr>\n",
       "  </thead>\n",
       "  <tbody>\n",
       "    <tr>\n",
       "      <th>0</th>\n",
       "      <td>p0</td>\n",
       "      <td>Libraries, Offices</td>\n",
       "      <td>Intermediate, Expert</td>\n",
       "      <td>Software (engineering/developing), Science (scientific &amp; numeric...</td>\n",
       "      <td>A few times a year, Monthly</td>\n",
       "      <td>Email, Slack channel</td>\n",
       "      <td>Yes</td>\n",
       "      <td>Yes</td>\n",
       "      <td>Monday, Wednesday, Saturday, Sunday</td>\n",
       "      <td>Best practices.  Improve my python skills.  Hear about careers u...</td>\n",
       "      <td>Presentations, Hack Nights</td>\n",
       "      <td>Software (engineering/developing), Science (scientific &amp; numeric...</td>\n",
       "      <td>Big Data Madison (https://www.meetup.com/BigDataMadison), Data S...</td>\n",
       "      <td>After work hours (6pm - 9pm)</td>\n",
       "      <td>Downtown, East</td>\n",
       "    </tr>\n",
       "    <tr>\n",
       "      <th>1</th>\n",
       "      <td>p1</td>\n",
       "      <td>Libraries, Bars, Restaurants, Offices</td>\n",
       "      <td>Introductory, Intermediate, Expert</td>\n",
       "      <td>Science (scientific &amp; numeric computing/data science), new user</td>\n",
       "      <td>Monthly</td>\n",
       "      <td>Email, Slack channel</td>\n",
       "      <td>Yes</td>\n",
       "      <td>Yes</td>\n",
       "      <td>Monday, Wednesday, Sunday</td>\n",
       "      <td>NaN</td>\n",
       "      <td>Presentations, Python Schooling</td>\n",
       "      <td>Science (scientific &amp; numeric computing/data science), Web (djan...</td>\n",
       "      <td>MadJS (https://www.meetup.com/MadisonJS), Big Data Madison (http...</td>\n",
       "      <td>After work hours (6pm - 9pm)</td>\n",
       "      <td>Far West, Near West, Downtown</td>\n",
       "    </tr>\n",
       "    <tr>\n",
       "      <th>2</th>\n",
       "      <td>p2</td>\n",
       "      <td>Libraries, Offices</td>\n",
       "      <td>Introductory, Intermediate, Expert</td>\n",
       "      <td>Science (scientific &amp; numeric computing/data science)</td>\n",
       "      <td>Monthly</td>\n",
       "      <td>Email</td>\n",
       "      <td>depends on location</td>\n",
       "      <td>Yes</td>\n",
       "      <td>Wednesday</td>\n",
       "      <td>NaN</td>\n",
       "      <td>Presentations, Python Schooling</td>\n",
       "      <td>Science (scientific &amp; numeric computing/data science)</td>\n",
       "      <td>Big Data Madison (https://www.meetup.com/BigDataMadison), Data S...</td>\n",
       "      <td>After work hours (6pm - 9pm)</td>\n",
       "      <td>Near West</td>\n",
       "    </tr>\n",
       "  </tbody>\n",
       "</table>\n",
       "</div>"
      ],
      "text/plain": [
       "id person                                     q0  \\\n",
       "0      p0                     Libraries, Offices   \n",
       "1      p1  Libraries, Bars, Restaurants, Offices   \n",
       "2      p2                     Libraries, Offices   \n",
       "\n",
       "id                                  q1  \\\n",
       "0                 Intermediate, Expert   \n",
       "1   Introductory, Intermediate, Expert   \n",
       "2   Introductory, Intermediate, Expert   \n",
       "\n",
       "id                                                                   q2  \\\n",
       "0   Software (engineering/developing), Science (scientific & numeric...   \n",
       "1       Science (scientific & numeric computing/data science), new user   \n",
       "2                 Science (scientific & numeric computing/data science)   \n",
       "\n",
       "id                           q3                    q4                   q5  \\\n",
       "0   A few times a year, Monthly  Email, Slack channel                  Yes   \n",
       "1                       Monthly  Email, Slack channel                  Yes   \n",
       "2                       Monthly                 Email  depends on location   \n",
       "\n",
       "id   q6                                   q7  \\\n",
       "0   Yes  Monday, Wednesday, Saturday, Sunday   \n",
       "1   Yes            Monday, Wednesday, Sunday   \n",
       "2   Yes                            Wednesday   \n",
       "\n",
       "id                                                                   q8  \\\n",
       "0   Best practices.  Improve my python skills.  Hear about careers u...   \n",
       "1                                                                   NaN   \n",
       "2                                                                   NaN   \n",
       "\n",
       "id                               q9  \\\n",
       "0        Presentations, Hack Nights   \n",
       "1   Presentations, Python Schooling   \n",
       "2   Presentations, Python Schooling   \n",
       "\n",
       "id                                                                  q10  \\\n",
       "0   Software (engineering/developing), Science (scientific & numeric...   \n",
       "1   Science (scientific & numeric computing/data science), Web (djan...   \n",
       "2                 Science (scientific & numeric computing/data science)   \n",
       "\n",
       "id                                                                  q11  \\\n",
       "0   Big Data Madison (https://www.meetup.com/BigDataMadison), Data S...   \n",
       "1   MadJS (https://www.meetup.com/MadisonJS), Big Data Madison (http...   \n",
       "2   Big Data Madison (https://www.meetup.com/BigDataMadison), Data S...   \n",
       "\n",
       "id                           q12                            q13  \n",
       "0   After work hours (6pm - 9pm)                 Downtown, East  \n",
       "1   After work hours (6pm - 9pm)  Far West, Near West, Downtown  \n",
       "2   After work hours (6pm - 9pm)                      Near West  "
      ]
     },
     "execution_count": 4,
     "metadata": {},
     "output_type": "execute_result"
    }
   ],
   "source": [
    "# Label participant\n",
    "results.insert(0, 'person', ['p{}'.format(i) for i in results.index])\n",
    "results.head(3)"
   ]
  },
  {
   "cell_type": "code",
   "execution_count": 5,
   "metadata": {
    "collapsed": false
   },
   "outputs": [
    {
     "data": {
      "text/html": [
       "<div>\n",
       "<table border=\"1\" class=\"dataframe\">\n",
       "  <thead>\n",
       "    <tr style=\"text-align: right;\">\n",
       "      <th></th>\n",
       "      <th>person</th>\n",
       "      <th>question</th>\n",
       "      <th>response_str</th>\n",
       "    </tr>\n",
       "  </thead>\n",
       "  <tbody>\n",
       "    <tr>\n",
       "      <th>0</th>\n",
       "      <td>p0</td>\n",
       "      <td>q0</td>\n",
       "      <td>Libraries, Offices</td>\n",
       "    </tr>\n",
       "    <tr>\n",
       "      <th>1</th>\n",
       "      <td>p1</td>\n",
       "      <td>q0</td>\n",
       "      <td>Libraries, Bars, Restaurants, Offices</td>\n",
       "    </tr>\n",
       "    <tr>\n",
       "      <th>2</th>\n",
       "      <td>p2</td>\n",
       "      <td>q0</td>\n",
       "      <td>Libraries, Offices</td>\n",
       "    </tr>\n",
       "  </tbody>\n",
       "</table>\n",
       "</div>"
      ],
      "text/plain": [
       "  person question                           response_str\n",
       "0     p0       q0                     Libraries, Offices\n",
       "1     p1       q0  Libraries, Bars, Restaurants, Offices\n",
       "2     p2       q0                     Libraries, Offices"
      ]
     },
     "execution_count": 5,
     "metadata": {},
     "output_type": "execute_result"
    }
   ],
   "source": [
    "responses = pandas.melt(results, 'person', var_name='question', value_name='response_str')\n",
    "responses.head(3)"
   ]
  },
  {
   "cell_type": "code",
   "execution_count": 6,
   "metadata": {
    "collapsed": false
   },
   "outputs": [
    {
     "data": {
      "text/html": [
       "<div>\n",
       "<table border=\"1\" class=\"dataframe\">\n",
       "  <thead>\n",
       "    <tr style=\"text-align: right;\">\n",
       "      <th></th>\n",
       "      <th>person</th>\n",
       "      <th>question</th>\n",
       "      <th>response_str</th>\n",
       "    </tr>\n",
       "  </thead>\n",
       "  <tbody>\n",
       "    <tr>\n",
       "      <th>0</th>\n",
       "      <td>p0</td>\n",
       "      <td>q0</td>\n",
       "      <td>Libraries, Offices</td>\n",
       "    </tr>\n",
       "    <tr>\n",
       "      <th>85</th>\n",
       "      <td>p0</td>\n",
       "      <td>q1</td>\n",
       "      <td>Intermediate, Expert</td>\n",
       "    </tr>\n",
       "    <tr>\n",
       "      <th>850</th>\n",
       "      <td>p0</td>\n",
       "      <td>q10</td>\n",
       "      <td>Software (engineering/developing), Science (scientific &amp; numeric...</td>\n",
       "    </tr>\n",
       "  </tbody>\n",
       "</table>\n",
       "</div>"
      ],
      "text/plain": [
       "    person question  \\\n",
       "0       p0       q0   \n",
       "85      p0       q1   \n",
       "850     p0      q10   \n",
       "\n",
       "                                                            response_str  \n",
       "0                                                     Libraries, Offices  \n",
       "85                                                  Intermediate, Expert  \n",
       "850  Software (engineering/developing), Science (scientific & numeric...  "
      ]
     },
     "execution_count": 6,
     "metadata": {},
     "output_type": "execute_result"
    }
   ],
   "source": [
    "responses.sort_values(['person', 'question']).head(3)"
   ]
  },
  {
   "cell_type": "code",
   "execution_count": 7,
   "metadata": {
    "collapsed": false
   },
   "outputs": [
    {
     "data": {
      "text/html": [
       "<div>\n",
       "<table border=\"1\" class=\"dataframe\">\n",
       "  <thead>\n",
       "    <tr style=\"text-align: right;\">\n",
       "      <th></th>\n",
       "      <th>response_n</th>\n",
       "      <th>response</th>\n",
       "    </tr>\n",
       "    <tr>\n",
       "      <th>index</th>\n",
       "      <th></th>\n",
       "      <th></th>\n",
       "    </tr>\n",
       "  </thead>\n",
       "  <tbody>\n",
       "    <tr>\n",
       "      <th>0</th>\n",
       "      <td>0</td>\n",
       "      <td>Libraries</td>\n",
       "    </tr>\n",
       "    <tr>\n",
       "      <th>0</th>\n",
       "      <td>1</td>\n",
       "      <td>Offices</td>\n",
       "    </tr>\n",
       "    <tr>\n",
       "      <th>1</th>\n",
       "      <td>0</td>\n",
       "      <td>Libraries</td>\n",
       "    </tr>\n",
       "    <tr>\n",
       "      <th>1</th>\n",
       "      <td>1</td>\n",
       "      <td>Bars</td>\n",
       "    </tr>\n",
       "    <tr>\n",
       "      <th>1</th>\n",
       "      <td>2</td>\n",
       "      <td>Restaurants</td>\n",
       "    </tr>\n",
       "  </tbody>\n",
       "</table>\n",
       "</div>"
      ],
      "text/plain": [
       "       response_n     response\n",
       "index                         \n",
       "0               0    Libraries\n",
       "0               1      Offices\n",
       "1               0    Libraries\n",
       "1               1         Bars\n",
       "1               2  Restaurants"
      ]
     },
     "execution_count": 7,
     "metadata": {},
     "output_type": "execute_result"
    }
   ],
   "source": [
    "def melt_responses(response_strs):\n",
    "    \"\"\"Given a Series of response strings return a DataFrame with one response per row.\n",
    "    \n",
    "    An example response str is 'Libraries, Offices'. The resulting DataFrame would have\n",
    "    two rows, one for each response item.\n",
    "    \"\"\"\n",
    "    response_list = [split_response(response, ix)\n",
    "                     for ix, response in response_strs.iteritems()]\n",
    "    response_ser = pandas.concat(response_list)\n",
    "    response_df = response_ser.reset_index(level='response_n')\n",
    "    return response_df\n",
    "\n",
    "def split_response(response_str, ix):\n",
    "    try:\n",
    "        responses = [response.strip() for response in response_str.split(',')]\n",
    "    except AttributeError:\n",
    "        responses = [response_str]\n",
    "    \n",
    "    \n",
    "    index_pairs = zip([ix]*len(responses), range(len(responses)))\n",
    "    multi_index = pandas.MultiIndex.from_tuples(list(index_pairs),\n",
    "                                                names=['index', 'response_n'])        \n",
    "    return pandas.Series(responses, index=multi_index, name='response')\n",
    "\n",
    "melted_responses = melt_responses(responses.response_str)\n",
    "melted_responses.head()"
   ]
  },
  {
   "cell_type": "code",
   "execution_count": 8,
   "metadata": {
    "collapsed": false
   },
   "outputs": [
    {
     "data": {
      "text/html": [
       "<div>\n",
       "<table border=\"1\" class=\"dataframe\">\n",
       "  <thead>\n",
       "    <tr style=\"text-align: right;\">\n",
       "      <th></th>\n",
       "      <th>person</th>\n",
       "      <th>question</th>\n",
       "      <th>response_str</th>\n",
       "      <th>response_n</th>\n",
       "      <th>response</th>\n",
       "    </tr>\n",
       "  </thead>\n",
       "  <tbody>\n",
       "    <tr>\n",
       "      <th>0</th>\n",
       "      <td>p0</td>\n",
       "      <td>q0</td>\n",
       "      <td>Libraries, Offices</td>\n",
       "      <td>0</td>\n",
       "      <td>Libraries</td>\n",
       "    </tr>\n",
       "    <tr>\n",
       "      <th>0</th>\n",
       "      <td>p0</td>\n",
       "      <td>q0</td>\n",
       "      <td>Libraries, Offices</td>\n",
       "      <td>1</td>\n",
       "      <td>Offices</td>\n",
       "    </tr>\n",
       "    <tr>\n",
       "      <th>1</th>\n",
       "      <td>p1</td>\n",
       "      <td>q0</td>\n",
       "      <td>Libraries, Bars, Restaurants, Offices</td>\n",
       "      <td>0</td>\n",
       "      <td>Libraries</td>\n",
       "    </tr>\n",
       "    <tr>\n",
       "      <th>1</th>\n",
       "      <td>p1</td>\n",
       "      <td>q0</td>\n",
       "      <td>Libraries, Bars, Restaurants, Offices</td>\n",
       "      <td>1</td>\n",
       "      <td>Bars</td>\n",
       "    </tr>\n",
       "    <tr>\n",
       "      <th>1</th>\n",
       "      <td>p1</td>\n",
       "      <td>q0</td>\n",
       "      <td>Libraries, Bars, Restaurants, Offices</td>\n",
       "      <td>2</td>\n",
       "      <td>Restaurants</td>\n",
       "    </tr>\n",
       "  </tbody>\n",
       "</table>\n",
       "</div>"
      ],
      "text/plain": [
       "  person question                           response_str  response_n  \\\n",
       "0     p0       q0                     Libraries, Offices           0   \n",
       "0     p0       q0                     Libraries, Offices           1   \n",
       "1     p1       q0  Libraries, Bars, Restaurants, Offices           0   \n",
       "1     p1       q0  Libraries, Bars, Restaurants, Offices           1   \n",
       "1     p1       q0  Libraries, Bars, Restaurants, Offices           2   \n",
       "\n",
       "      response  \n",
       "0    Libraries  \n",
       "0      Offices  \n",
       "1    Libraries  \n",
       "1         Bars  \n",
       "1  Restaurants  "
      ]
     },
     "execution_count": 8,
     "metadata": {},
     "output_type": "execute_result"
    }
   ],
   "source": [
    "responses = responses.merge(melted_responses, left_index=True, right_index=True)\n",
    "responses.head()"
   ]
  },
  {
   "cell_type": "code",
   "execution_count": 9,
   "metadata": {
    "collapsed": false
   },
   "outputs": [
    {
     "data": {
      "text/html": [
       "<div>\n",
       "<table border=\"1\" class=\"dataframe\">\n",
       "  <thead>\n",
       "    <tr style=\"text-align: right;\">\n",
       "      <th></th>\n",
       "      <th>person</th>\n",
       "      <th>response_n</th>\n",
       "      <th>response</th>\n",
       "    </tr>\n",
       "    <tr>\n",
       "      <th>question</th>\n",
       "      <th></th>\n",
       "      <th></th>\n",
       "      <th></th>\n",
       "    </tr>\n",
       "  </thead>\n",
       "  <tbody>\n",
       "    <tr>\n",
       "      <th>q0</th>\n",
       "      <td>p0</td>\n",
       "      <td>0</td>\n",
       "      <td>Libraries</td>\n",
       "    </tr>\n",
       "    <tr>\n",
       "      <th>q0</th>\n",
       "      <td>p0</td>\n",
       "      <td>1</td>\n",
       "      <td>Offices</td>\n",
       "    </tr>\n",
       "    <tr>\n",
       "      <th>q0</th>\n",
       "      <td>p1</td>\n",
       "      <td>0</td>\n",
       "      <td>Libraries</td>\n",
       "    </tr>\n",
       "    <tr>\n",
       "      <th>q0</th>\n",
       "      <td>p1</td>\n",
       "      <td>1</td>\n",
       "      <td>Bars</td>\n",
       "    </tr>\n",
       "    <tr>\n",
       "      <th>q0</th>\n",
       "      <td>p1</td>\n",
       "      <td>2</td>\n",
       "      <td>Restaurants</td>\n",
       "    </tr>\n",
       "  </tbody>\n",
       "</table>\n",
       "</div>"
      ],
      "text/plain": [
       "         person  response_n     response\n",
       "question                                \n",
       "q0           p0           0    Libraries\n",
       "q0           p0           1      Offices\n",
       "q0           p1           0    Libraries\n",
       "q0           p1           1         Bars\n",
       "q0           p1           2  Restaurants"
      ]
     },
     "execution_count": 9,
     "metadata": {},
     "output_type": "execute_result"
    }
   ],
   "source": [
    "del responses['response_str']\n",
    "responses.set_index('question', inplace=True)\n",
    "responses.head()"
   ]
  },
  {
   "cell_type": "code",
   "execution_count": 10,
   "metadata": {
    "collapsed": false
   },
   "outputs": [
    {
     "name": "stderr",
     "output_type": "stream",
     "text": [
      "/Users/work/.venvs/madpy/lib/python3.5/site-packages/matplotlib/font_manager.py:280: UserWarning: Matplotlib is building the font cache using fc-list. This may take a moment.\n",
      "  'Matplotlib is building the font cache using fc-list. '\n"
     ]
    }
   ],
   "source": [
    "%matplotlib inline\n",
    "import seaborn\n",
    "\n",
    "def plot_counts(question_id):\n",
    "    seaborn.countplot(responses.ix[question_id, 'response'])"
   ]
  },
  {
   "cell_type": "code",
   "execution_count": 11,
   "metadata": {
    "collapsed": false
   },
   "outputs": [
    {
     "data": {
      "text/html": [
       "<div>\n",
       "<table border=\"1\" class=\"dataframe\">\n",
       "  <thead>\n",
       "    <tr style=\"text-align: right;\">\n",
       "      <th></th>\n",
       "      <th>id</th>\n",
       "      <th>question</th>\n",
       "    </tr>\n",
       "  </thead>\n",
       "  <tbody>\n",
       "    <tr>\n",
       "      <th>0</th>\n",
       "      <td>q0</td>\n",
       "      <td>At what kind of facilities would you like to see the meetup?</td>\n",
       "    </tr>\n",
       "    <tr>\n",
       "      <th>1</th>\n",
       "      <td>q1</td>\n",
       "      <td>At what skill level would you like to see events hosted?</td>\n",
       "    </tr>\n",
       "    <tr>\n",
       "      <th>2</th>\n",
       "      <td>q2</td>\n",
       "      <td>How are you using Python?</td>\n",
       "    </tr>\n",
       "    <tr>\n",
       "      <th>3</th>\n",
       "      <td>q3</td>\n",
       "      <td>How frequently would you be interested in attending MadPy meetings?</td>\n",
       "    </tr>\n",
       "    <tr>\n",
       "      <th>4</th>\n",
       "      <td>q4</td>\n",
       "      <td>How would you prefer to communicate with the group online?</td>\n",
       "    </tr>\n",
       "    <tr>\n",
       "      <th>5</th>\n",
       "      <td>q5</td>\n",
       "      <td>Is alcohol okay at meetups?</td>\n",
       "    </tr>\n",
       "    <tr>\n",
       "      <th>6</th>\n",
       "      <td>q6</td>\n",
       "      <td>Is food okay at meetups?</td>\n",
       "    </tr>\n",
       "    <tr>\n",
       "      <th>7</th>\n",
       "      <td>q7</td>\n",
       "      <td>What day(s) of the week work best for you?</td>\n",
       "    </tr>\n",
       "    <tr>\n",
       "      <th>8</th>\n",
       "      <td>q8</td>\n",
       "      <td>What do you want to get out of a Madison Python meetup?</td>\n",
       "    </tr>\n",
       "    <tr>\n",
       "      <th>9</th>\n",
       "      <td>q9</td>\n",
       "      <td>What format(s) of events would you like to see at MadPy?</td>\n",
       "    </tr>\n",
       "    <tr>\n",
       "      <th>10</th>\n",
       "      <td>q10</td>\n",
       "      <td>What kind(s) of events would you like to see at MadPy?</td>\n",
       "    </tr>\n",
       "    <tr>\n",
       "      <th>11</th>\n",
       "      <td>q11</td>\n",
       "      <td>What other tech meetups do you go to?</td>\n",
       "    </tr>\n",
       "    <tr>\n",
       "      <th>12</th>\n",
       "      <td>q12</td>\n",
       "      <td>What time(s) of day work best for you?</td>\n",
       "    </tr>\n",
       "    <tr>\n",
       "      <th>13</th>\n",
       "      <td>q13</td>\n",
       "      <td>Where in town works best for you to attend the meetup?</td>\n",
       "    </tr>\n",
       "  </tbody>\n",
       "</table>\n",
       "</div>"
      ],
      "text/plain": [
       "     id                                                             question\n",
       "0    q0         At what kind of facilities would you like to see the meetup?\n",
       "1    q1             At what skill level would you like to see events hosted?\n",
       "2    q2                                            How are you using Python?\n",
       "3    q3  How frequently would you be interested in attending MadPy meetings?\n",
       "4    q4           How would you prefer to communicate with the group online?\n",
       "5    q5                                          Is alcohol okay at meetups?\n",
       "6    q6                                             Is food okay at meetups?\n",
       "7    q7                           What day(s) of the week work best for you?\n",
       "8    q8              What do you want to get out of a Madison Python meetup?\n",
       "9    q9             What format(s) of events would you like to see at MadPy?\n",
       "10  q10               What kind(s) of events would you like to see at MadPy?\n",
       "11  q11                                What other tech meetups do you go to?\n",
       "12  q12                               What time(s) of day work best for you?\n",
       "13  q13               Where in town works best for you to attend the meetup?"
      ]
     },
     "execution_count": 11,
     "metadata": {},
     "output_type": "execute_result"
    }
   ],
   "source": [
    "questions"
   ]
  },
  {
   "cell_type": "code",
   "execution_count": 12,
   "metadata": {
    "collapsed": false
   },
   "outputs": [
    {
     "data": {
      "image/png": "[encoded data removed]",
      "text/plain": [
       "<matplotlib.figure.Figure at 0x106ee0390>"
      ]
     },
     "metadata": {},
     "output_type": "display_data"
    }
   ],
   "source": [
    "plot_counts('q1')"
   ]
  },
  {
   "cell_type": "code",
   "execution_count": 13,
   "metadata": {
    "collapsed": false
   },
   "outputs": [
    {
     "data": {
      "image/png": "[encoded data removed]",
      "text/plain": [
       "<matplotlib.figure.Figure at 0x109605908>"
      ]
     },
     "metadata": {},
     "output_type": "display_data"
    }
   ],
   "source": [
    "plot_counts('q2')"
   ]
  },
  {
   "cell_type": "code",
   "execution_count": 14,
   "metadata": {
    "collapsed": false
   },
   "outputs": [
    {
     "data": {
      "image/png": "[encoded data removed]",
      "text/plain": [
       "<matplotlib.figure.Figure at 0x1096c2f98>"
      ]
     },
     "metadata": {},
     "output_type": "display_data"
    }
   ],
   "source": [
    "plot_counts('q3')"
   ]
  },
  {
   "cell_type": "code",
   "execution_count": 15,
   "metadata": {
    "collapsed": false
   },
   "outputs": [
    {
     "data": {
      "image/png": "[encoded data removed]",
      "text/plain": [
       "<matplotlib.figure.Figure at 0x109818b00>"
      ]
     },
     "metadata": {},
     "output_type": "display_data"
    }
   ],
   "source": [
    "plot_counts('q4')"
   ]
  },
  {
   "cell_type": "code",
   "execution_count": 16,
   "metadata": {
    "collapsed": false
   },
   "outputs": [
    {
     "data": {
      "image/png": "[encoded data removed]",
      "text/plain": [
       "<matplotlib.figure.Figure at 0x109810978>"
      ]
     },
     "metadata": {},
     "output_type": "display_data"
    }
   ],
   "source": [
    "plot_counts('q5')"
   ]
  },
  {
   "cell_type": "code",
   "execution_count": 17,
   "metadata": {
    "collapsed": false
   },
   "outputs": [
    {
     "data": {
      "image/png": "[encoded data removed]",
      "text/plain": [
       "<matplotlib.figure.Figure at 0x109a5d780>"
      ]
     },
     "metadata": {},
     "output_type": "display_data"
    }
   ],
   "source": [
    "plot_counts('q6')"
   ]
  },
  {
   "cell_type": "code",
   "execution_count": 18,
   "metadata": {
    "collapsed": false
   },
   "outputs": [
    {
     "data": {
      "image/png": "[encoded data removed]",
      "text/plain": [
       "<matplotlib.figure.Figure at 0x1052795f8>"
      ]
     },
     "metadata": {},
     "output_type": "display_data"
    }
   ],
   "source": [
    "plot_counts('q7')"
   ]
  },
  {
   "cell_type": "code",
   "execution_count": 19,
   "metadata": {
    "collapsed": false
   },
   "outputs": [
    {
     "data": {
      "image/png": "[encoded data removed]",
      "text/plain": [
       "<matplotlib.figure.Figure at 0x106ec9198>"
      ]
     },
     "metadata": {},
     "output_type": "display_data"
    }
   ],
   "source": [
    "plot_counts('q8')"
   ]
  },
  {
   "cell_type": "code",
   "execution_count": 20,
   "metadata": {
    "collapsed": false
   },
   "outputs": [
    {
     "data": {
      "image/png": "[encoded data removed]",
      "text/plain": [
       "<matplotlib.figure.Figure at 0x109bdb978>"
      ]
     },
     "metadata": {},
     "output_type": "display_data"
    }
   ],
   "source": [
    "plot_counts('q9')"
   ]
  },
  {
   "cell_type": "code",
   "execution_count": 21,
   "metadata": {
    "collapsed": false
   },
   "outputs": [
    {
     "data": {
      "image/png": "[encoded data removed]",
      "text/plain": [
       "<matplotlib.figure.Figure at 0x109e37c50>"
      ]
     },
     "metadata": {},
     "output_type": "display_data"
    }
   ],
   "source": [
    "plot_counts('q10')"
   ]
  },
  {
   "cell_type": "code",
   "execution_count": 22,
   "metadata": {
    "collapsed": false
   },
   "outputs": [
    {
     "data": {
      "image/png": "[encoded data removed]",
      "text/plain": [
       "<matplotlib.figure.Figure at 0x109ec6be0>"
      ]
     },
     "metadata": {},
     "output_type": "display_data"
    }
   ],
   "source": [
    "plot_counts('q11')"
   ]
  },
  {
   "cell_type": "code",
   "execution_count": 23,
   "metadata": {
    "collapsed": false
   },
   "outputs": [
    {
     "data": {
      "image/png": "[encoded data removed]",
      "text/plain": [
       "<matplotlib.figure.Figure at 0x109ef9128>"
      ]
     },
     "metadata": {},
     "output_type": "display_data"
    }
   ],
   "source": [
    "plot_counts('q12')"
   ]
  },
  {
   "cell_type": "code",
   "execution_count": 24,
   "metadata": {
    "collapsed": false
   },
   "outputs": [
    {
     "data": {
      "image/png": "[encoded data removed]",
      "text/plain": [
       "<matplotlib.figure.Figure at 0x10a03ea90>"
      ]
     },
     "metadata": {},
     "output_type": "display_data"
    }
   ],
   "source": [
    "plot_counts('q13')"
   ]
  }
 ],
 "metadata": {
  "kernelspec": {
   "display_name": "Python 3",
   "language": "python",
   "name": "python3"
  },
  "language_info": {
   "codemirror_mode": {
    "name": "ipython",
    "version": 3
   },
   "file_extension": ".py",
   "mimetype": "text/x-python",
   "name": "python",
   "nbconvert_exporter": "python",
   "pygments_lexer": "ipython3",
   "version": "3.5.2"
  }
 },
 "nbformat": 4,
 "nbformat_minor": 2
}
