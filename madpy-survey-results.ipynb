{
 "cells": [
  {
   "cell_type": "markdown",
   "metadata": {},
   "source": [
    "Let's check out the results of the Madpy survey.\n",
    "\n",
    "The header column is very verbose, including the complete question text. I want to replace these verbose column headers with something shorter, but still have the complete question text available as reference. The first thing I do is create a more concise map of questions to numbers. Then I can replace the verbose column headers with the shorter values contained in the map."
   ]
  },
  {
   "cell_type": "code",
   "execution_count": 60,
   "metadata": {
    "collapsed": false
   },
   "outputs": [
    {
     "data": {
      "text/html": [
       "<div>\n",
       "<table border=\"1\" class=\"dataframe\">\n",
       "  <thead>\n",
       "    <tr style=\"text-align: right;\">\n",
       "      <th></th>\n",
       "      <th>id</th>\n",
       "      <th>question</th>\n",
       "    </tr>\n",
       "  </thead>\n",
       "  <tbody>\n",
       "    <tr>\n",
       "      <th>0</th>\n",
       "      <td>q0</td>\n",
       "      <td>At what kind of facilities would you like to see the meetup?</td>\n",
       "    </tr>\n",
       "    <tr>\n",
       "      <th>1</th>\n",
       "      <td>q1</td>\n",
       "      <td>At what skill level would you like to see events hosted?</td>\n",
       "    </tr>\n",
       "    <tr>\n",
       "      <th>2</th>\n",
       "      <td>q2</td>\n",
       "      <td>How are you using Python?</td>\n",
       "    </tr>\n",
       "    <tr>\n",
       "      <th>3</th>\n",
       "      <td>q3</td>\n",
       "      <td>How frequently would you be interested in attending MadPy meetings?</td>\n",
       "    </tr>\n",
       "    <tr>\n",
       "      <th>4</th>\n",
       "      <td>q4</td>\n",
       "      <td>How would you prefer to communicate with the group online?</td>\n",
       "    </tr>\n",
       "    <tr>\n",
       "      <th>5</th>\n",
       "      <td>q5</td>\n",
       "      <td>Is alcohol okay at meetups?</td>\n",
       "    </tr>\n",
       "    <tr>\n",
       "      <th>6</th>\n",
       "      <td>q6</td>\n",
       "      <td>Is food okay at meetups?</td>\n",
       "    </tr>\n",
       "    <tr>\n",
       "      <th>7</th>\n",
       "      <td>q7</td>\n",
       "      <td>What day(s) of the week work best for you?</td>\n",
       "    </tr>\n",
       "    <tr>\n",
       "      <th>8</th>\n",
       "      <td>q8</td>\n",
       "      <td>What do you want to get out of a Madison Python meetup?</td>\n",
       "    </tr>\n",
       "    <tr>\n",
       "      <th>9</th>\n",
       "      <td>q9</td>\n",
       "      <td>What format(s) of events would you like to see at MadPy?</td>\n",
       "    </tr>\n",
       "    <tr>\n",
       "      <th>10</th>\n",
       "      <td>q10</td>\n",
       "      <td>What kind(s) of events would you like to see at MadPy?</td>\n",
       "    </tr>\n",
       "    <tr>\n",
       "      <th>11</th>\n",
       "      <td>q11</td>\n",
       "      <td>What other tech meetups do you go to?</td>\n",
       "    </tr>\n",
       "    <tr>\n",
       "      <th>12</th>\n",
       "      <td>q12</td>\n",
       "      <td>What time(s) of day work best for you?</td>\n",
       "    </tr>\n",
       "    <tr>\n",
       "      <th>13</th>\n",
       "      <td>q13</td>\n",
       "      <td>Where in town works best for you to attend the meetup?</td>\n",
       "    </tr>\n",
       "  </tbody>\n",
       "</table>\n",
       "</div>"
      ],
      "text/plain": [
       "     id                                                             question\n",
       "0    q0         At what kind of facilities would you like to see the meetup?\n",
       "1    q1             At what skill level would you like to see events hosted?\n",
       "2    q2                                            How are you using Python?\n",
       "3    q3  How frequently would you be interested in attending MadPy meetings?\n",
       "4    q4           How would you prefer to communicate with the group online?\n",
       "5    q5                                          Is alcohol okay at meetups?\n",
       "6    q6                                             Is food okay at meetups?\n",
       "7    q7                           What day(s) of the week work best for you?\n",
       "8    q8              What do you want to get out of a Madison Python meetup?\n",
       "9    q9             What format(s) of events would you like to see at MadPy?\n",
       "10  q10               What kind(s) of events would you like to see at MadPy?\n",
       "11  q11                                What other tech meetups do you go to?\n",
       "12  q12                               What time(s) of day work best for you?\n",
       "13  q13               Where in town works best for you to attend the meetup?"
      ]
     },
     "execution_count": 60,
     "metadata": {},
     "output_type": "execute_result"
    }
   ],
   "source": [
    "import pandas\n",
    "import seaborn\n",
    "%matplotlib inline\n",
    "\n",
    "results = pandas.read_csv('responses-deidentified.csv')\n",
    "\n",
    "questions = pandas.DataFrame(dict(question=results.columns))\n",
    "questions.insert(0, 'id', ['q{}'.format(i) for i in questions.index])\n",
    "results.columns = questions.id\n",
    "\n",
    "pandas.set_option('display.max_colwidth', questions.question.apply(len).max().item() + 1)\n",
    "questions"
   ]
  }
 ],
 "metadata": {
  "kernelspec": {
   "display_name": "Python 3",
   "language": "python",
   "name": "python3"
  },
  "language_info": {
   "codemirror_mode": {
    "name": "ipython",
    "version": 3
   },
   "file_extension": ".py",
   "mimetype": "text/x-python",
   "name": "python",
   "nbconvert_exporter": "python",
   "pygments_lexer": "ipython3",
   "version": "3.5.2"
  }
 },
 "nbformat": 4,
 "nbformat_minor": 2
}
